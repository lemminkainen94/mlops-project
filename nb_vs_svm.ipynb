{
 "cells": [
  {
   "cell_type": "code",
   "execution_count": 186,
   "id": "74cecd65",
   "metadata": {},
   "outputs": [],
   "source": [
    "import numpy as np\n",
    "import pandas as pd\n",
    "from sklearn.feature_extraction.text import CountVectorizer, TfidfTransformer\n",
    "from sklearn.naive_bayes import MultinomialNB\n",
    "from sklearn.model_selection import train_test_split\n",
    "from sklearn.metrics import roc_auc_score, f1_score, accuracy_score, confusion_matrix\n",
    "from sklearn.linear_model import SGDClassifier\n",
    "from sklearn.svm import SVC\n",
    "import nltk\n",
    "from sklearn.model_selection import cross_val_score, StratifiedKFold"
   ]
  },
  {
   "cell_type": "code",
   "execution_count": 67,
   "id": "089d3d6e",
   "metadata": {},
   "outputs": [],
   "source": [
    "df = pd.read_csv('data/data_no_tweet.tsv', sep='\\t')\n",
    "df['target_text'] = df.apply(lambda x: x.text + ' [SEP] ' + x.target, axis=1)\n",
    "df_train, df_test = train_test_split(\n",
    "  df,\n",
    "  test_size=0.2,\n",
    "  random_state=42\n",
    ")"
   ]
  },
  {
   "cell_type": "markdown",
   "id": "e4e25a4d",
   "metadata": {},
   "source": [
    "# building tf-idf matrix"
   ]
  },
  {
   "cell_type": "code",
   "execution_count": 68,
   "id": "116cf6a1",
   "metadata": {},
   "outputs": [
    {
     "data": {
      "text/plain": [
       "(4865, 5009)"
      ]
     },
     "execution_count": 68,
     "metadata": {},
     "output_type": "execute_result"
    }
   ],
   "source": [
    "count_vect = CountVectorizer()\n",
    "word_idx = count_vect.fit_transform(df_train.target_text.values)\n",
    "word_idx.shape"
   ]
  },
  {
   "cell_type": "code",
   "execution_count": 69,
   "id": "94ca6b8c",
   "metadata": {},
   "outputs": [
    {
     "data": {
      "text/plain": [
       "3281"
      ]
     },
     "execution_count": 69,
     "metadata": {},
     "output_type": "execute_result"
    }
   ],
   "source": [
    "count_vect.vocabulary_.get('pizza')"
   ]
  },
  {
   "cell_type": "code",
   "execution_count": 70,
   "id": "f0ccdcb7",
   "metadata": {},
   "outputs": [
    {
     "data": {
      "text/plain": [
       "(4865, 5009)"
      ]
     },
     "execution_count": 70,
     "metadata": {},
     "output_type": "execute_result"
    }
   ],
   "source": [
    "tfidf_transformer = TfidfTransformer().fit(word_idx)\n",
    "train_tfidf = tfidf_transformer.transform(word_idx)\n",
    "train_tfidf.shape"
   ]
  },
  {
   "cell_type": "code",
   "execution_count": 71,
   "id": "7f3a9359",
   "metadata": {},
   "outputs": [
    {
     "data": {
      "text/plain": [
       "<4865x5009 sparse matrix of type '<class 'numpy.float64'>'\n",
       "\twith 81469 stored elements in Compressed Sparse Row format>"
      ]
     },
     "execution_count": 71,
     "metadata": {},
     "output_type": "execute_result"
    }
   ],
   "source": [
    "train_tfidf"
   ]
  },
  {
   "cell_type": "code",
   "execution_count": 72,
   "id": "82ed6432",
   "metadata": {},
   "outputs": [],
   "source": [
    "# df = df.sample(frac=0.1)"
   ]
  },
  {
   "cell_type": "code",
   "execution_count": 10,
   "id": "50fc4c96",
   "metadata": {},
   "outputs": [],
   "source": [
    "df_train, df_test = train_test_split(\n",
    "  df,\n",
    "  test_size=0.2,\n",
    "  random_state=42\n",
    ")"
   ]
  },
  {
   "cell_type": "code",
   "execution_count": 73,
   "id": "34d24b8a",
   "metadata": {},
   "outputs": [],
   "source": [
    "X_train = tfidf_transformer.transform(count_vect.transform(df_train.text.values))"
   ]
  },
  {
   "cell_type": "markdown",
   "id": "d9affe9a",
   "metadata": {},
   "source": [
    "# Fitting NB classifier"
   ]
  },
  {
   "cell_type": "code",
   "execution_count": 8,
   "id": "3f6799b4",
   "metadata": {},
   "outputs": [],
   "source": [
    "nb = MultinomialNB().fit(train_tfidf, df_train.sentiment)"
   ]
  },
  {
   "cell_type": "code",
   "execution_count": 17,
   "id": "0ca1b3bb",
   "metadata": {},
   "outputs": [],
   "source": [
    "X_test = tfidf_transformer.transform(count_vect.transform(df_test.text.values))\n",
    "predicted = nb.predict(X_test)"
   ]
  },
  {
   "cell_type": "code",
   "execution_count": 18,
   "id": "c42e0ff4",
   "metadata": {},
   "outputs": [
    {
     "data": {
      "text/plain": [
       "(0.7345932621199671, 0.508865100630436)"
      ]
     },
     "execution_count": 18,
     "metadata": {},
     "output_type": "execute_result"
    }
   ],
   "source": [
    "accuracy_score(df_test.sentiment, predicted), f1_score(df_test.sentiment, predicted, average='macro')"
   ]
  },
  {
   "cell_type": "code",
   "execution_count": 19,
   "id": "5f2aaf37",
   "metadata": {},
   "outputs": [
    {
     "data": {
      "text/plain": [
       "array([[ 89,   2, 171],\n",
       "       [ 31,  21, 103],\n",
       "       [ 13,   3, 784]], dtype=int64)"
      ]
     },
     "execution_count": 19,
     "metadata": {},
     "output_type": "execute_result"
    }
   ],
   "source": [
    "confusion_matrix(df_test.sentiment, predicted)"
   ]
  },
  {
   "cell_type": "code",
   "execution_count": 14,
   "id": "d67cb0c5",
   "metadata": {},
   "outputs": [],
   "source": [
    "predicted = nb.predict(train_tfidf)"
   ]
  },
  {
   "cell_type": "code",
   "execution_count": 15,
   "id": "a2c6804c",
   "metadata": {},
   "outputs": [
    {
     "data": {
      "text/plain": [
       "(0.7677286742034943, 0.6070861723998013)"
      ]
     },
     "execution_count": 15,
     "metadata": {},
     "output_type": "execute_result"
    }
   ],
   "source": [
    "accuracy_score(df_train.sentiment, predicted), f1_score(df_train.sentiment, predicted, average='macro')"
   ]
  },
  {
   "cell_type": "code",
   "execution_count": 20,
   "id": "d5871ae0",
   "metadata": {},
   "outputs": [
    {
     "data": {
      "text/plain": [
       " 1    3816\n",
       "-1    1464\n",
       " 0     802\n",
       "Name: sentiment, dtype: int64"
      ]
     },
     "execution_count": 20,
     "metadata": {},
     "output_type": "execute_result"
    }
   ],
   "source": [
    "df.sentiment.value_counts()"
   ]
  },
  {
   "cell_type": "markdown",
   "id": "be2bc00d",
   "metadata": {},
   "source": [
    "# SVM"
   ]
  },
  {
   "cell_type": "code",
   "execution_count": 111,
   "id": "a8b920c5",
   "metadata": {},
   "outputs": [],
   "source": [
    "sgd = SGDClassifier(loss='hinge', penalty='l2',\n",
    "                          alpha=1e-4, random_state=42,\n",
    "                          max_iter=1000, tol=None)"
   ]
  },
  {
   "cell_type": "code",
   "execution_count": 112,
   "id": "49f3c5a2",
   "metadata": {},
   "outputs": [
    {
     "data": {
      "text/plain": [
       "SGDClassifier(random_state=42, tol=None)"
      ]
     },
     "execution_count": 112,
     "metadata": {},
     "output_type": "execute_result"
    }
   ],
   "source": [
    "sgd.fit(train_tfidf, df_train.sentiment)"
   ]
  },
  {
   "cell_type": "code",
   "execution_count": 113,
   "id": "0392a9cb",
   "metadata": {},
   "outputs": [],
   "source": [
    "X_test = tfidf_transformer.transform(count_vect.transform(df_test.target_text.values))\n",
    "predicted = sgd.predict(X_test)"
   ]
  },
  {
   "cell_type": "code",
   "execution_count": 114,
   "id": "9479fa15",
   "metadata": {},
   "outputs": [
    {
     "data": {
      "text/plain": [
       "(0.7830731306491372, 0.6742810967187066)"
      ]
     },
     "execution_count": 114,
     "metadata": {},
     "output_type": "execute_result"
    }
   ],
   "source": [
    "accuracy_score(df_test.sentiment, predicted), f1_score(df_test.sentiment, predicted, average='macro')"
   ]
  },
  {
   "cell_type": "code",
   "execution_count": 79,
   "id": "8ce804a1",
   "metadata": {},
   "outputs": [
    {
     "data": {
      "text/plain": [
       "array([[165,  20,  77],\n",
       "       [ 39,  71,  45],\n",
       "       [ 49,  34, 717]], dtype=int64)"
      ]
     },
     "execution_count": 79,
     "metadata": {},
     "output_type": "execute_result"
    }
   ],
   "source": [
    "confusion_matrix(df_test.sentiment, predicted)"
   ]
  },
  {
   "cell_type": "code",
   "execution_count": 80,
   "id": "a2ba7a1e",
   "metadata": {},
   "outputs": [],
   "source": [
    "predicted = sgd.predict(train_tfidf)"
   ]
  },
  {
   "cell_type": "code",
   "execution_count": 81,
   "id": "13b17826",
   "metadata": {},
   "outputs": [
    {
     "data": {
      "text/plain": [
       "(0.9085303186022611, 0.8661016725465255)"
      ]
     },
     "execution_count": 81,
     "metadata": {},
     "output_type": "execute_result"
    }
   ],
   "source": [
    "accuracy_score(df_train.sentiment, predicted), f1_score(df_train.sentiment, predicted, average='macro')"
   ]
  },
  {
   "cell_type": "code",
   "execution_count": 40,
   "id": "acd85806",
   "metadata": {},
   "outputs": [],
   "source": [
    "svm = SVC(kernel='rbf', C=10).fit(train_tfidf, df_train.sentiment)"
   ]
  },
  {
   "cell_type": "code",
   "execution_count": 41,
   "id": "fbb78c6c",
   "metadata": {},
   "outputs": [
    {
     "data": {
      "text/plain": [
       "(0.7584223500410846, 0.6341398506885992)"
      ]
     },
     "execution_count": 41,
     "metadata": {},
     "output_type": "execute_result"
    }
   ],
   "source": [
    "predicted = svm.predict(X_test)\n",
    "accuracy_score(df_test.sentiment, predicted), f1_score(df_test.sentiment, predicted, average='macro')"
   ]
  },
  {
   "cell_type": "code",
   "execution_count": null,
   "id": "0789048d",
   "metadata": {},
   "outputs": [],
   "source": []
  },
  {
   "cell_type": "markdown",
   "id": "40f334fc",
   "metadata": {},
   "source": [
    "# Extracting the sentence containing the target"
   ]
  },
  {
   "cell_type": "code",
   "execution_count": 88,
   "id": "3f373008",
   "metadata": {},
   "outputs": [],
   "source": [
    "def get_sent(row):\n",
    "    sents = nltk.sent_tokenize(row.text)\n",
    "    for sent in sents:\n",
    "        if row.target.lower() in sent.lower():\n",
    "            return sent\n",
    "    return row.text\n",
    "\n",
    "df['sent'] = df.apply(get_sent, axis=1)"
   ]
  },
  {
   "cell_type": "code",
   "execution_count": 92,
   "id": "d0d80a43",
   "metadata": {},
   "outputs": [],
   "source": [
    "df_train, df_test = train_test_split(\n",
    "  df,\n",
    "  test_size=0.2,\n",
    "  random_state=42\n",
    ")"
   ]
  },
  {
   "cell_type": "code",
   "execution_count": 93,
   "id": "1c6f0c40",
   "metadata": {},
   "outputs": [
    {
     "data": {
      "text/plain": [
       "(0.7871815940838126, 0.6805891682930723)"
      ]
     },
     "execution_count": 93,
     "metadata": {},
     "output_type": "execute_result"
    }
   ],
   "source": [
    "sgd = SGDClassifier(loss='hinge', penalty='l2',\n",
    "                          alpha=1e-4, random_state=42,\n",
    "                          max_iter=1000, tol=None)\n",
    "\n",
    "sgd.fit(train_tfidf, df_train.sentiment)\n",
    "\n",
    "X_test = tfidf_transformer.transform(count_vect.transform(df_test.sent.values))\n",
    "predicted = sgd.predict(X_test)\n",
    "\n",
    "accuracy_score(df_test.sentiment, predicted), f1_score(df_test.sentiment, predicted, average='macro')"
   ]
  },
  {
   "cell_type": "code",
   "execution_count": 94,
   "id": "4869f169",
   "metadata": {},
   "outputs": [
    {
     "data": {
      "text/plain": [
       "array([[171,  17,  74],\n",
       "       [ 40,  71,  44],\n",
       "       [ 48,  36, 716]], dtype=int64)"
      ]
     },
     "execution_count": 94,
     "metadata": {},
     "output_type": "execute_result"
    }
   ],
   "source": [
    "confusion_matrix(df_test.sentiment, predicted)"
   ]
  },
  {
   "cell_type": "markdown",
   "id": "9d7d9726",
   "metadata": {},
   "source": [
    "# Fine tune   "
   ]
  },
  {
   "cell_type": "code",
   "execution_count": 2,
   "id": "929f4e4a",
   "metadata": {},
   "outputs": [
    {
     "name": "stderr",
     "output_type": "stream",
     "text": [
      "C:\\Users\\wojtek\\anaconda3\\lib\\site-packages\\numpy\\_distributor_init.py:30: UserWarning: loaded more than 1 DLL from .libs:\n",
      "C:\\Users\\wojtek\\anaconda3\\lib\\site-packages\\numpy\\.libs\\libopenblas.EL2C6PLE4ZYW3ECEVIV3OXXGRN2NRFM2.gfortran-win_amd64.dll\n",
      "C:\\Users\\wojtek\\anaconda3\\lib\\site-packages\\numpy\\.libs\\libopenblas.FB5AE2TYXYH2IJRDKGDGQ3XBKLKTF43H.gfortran-win_amd64.dll\n",
      "  warnings.warn(\"loaded more than 1 DLL from .libs:\"\n"
     ]
    }
   ],
   "source": [
    "from hyperopt import fmin, tpe, hp, STATUS_OK, Trials\n",
    "from hyperopt.pyll import scope"
   ]
  },
  {
   "cell_type": "code",
   "execution_count": 211,
   "id": "ab3de8ac",
   "metadata": {},
   "outputs": [],
   "source": [
    "def prepare_data_splits(df, vectorizer_params):\n",
    "    df_train, df_test = train_test_split(\n",
    "      df,\n",
    "      test_size=0.2,\n",
    "      random_state=42\n",
    "    )\n",
    "\n",
    "    count_vect = CountVectorizer(**vectorizer_params)\n",
    "    word_idx = count_vect.fit_transform(df_train.target_text.values)\n",
    "\n",
    "    tfidf_transformer = TfidfTransformer().fit(word_idx)\n",
    "\n",
    "    x_train = tfidf_transformer.transform(word_idx)\n",
    "    x_test = tfidf_transformer.transform(count_vect.transform(df_test.target_text.values))\n",
    "    \n",
    "    return x_train, x_test, df_train.sentiment, df_test.sentiment, count_vect, tfidf_transformer"
   ]
  },
  {
   "cell_type": "code",
   "execution_count": 208,
   "id": "2fbd198b",
   "metadata": {},
   "outputs": [],
   "source": [
    "def hyperopt_search(x_train, y_train, search_space):\n",
    "    def objective(params):\n",
    "        sgd = SGDClassifier(max_iter=1000, **params)\n",
    "        kfold = StratifiedKFold(n_splits=5, shuffle=True)\n",
    "        neg_acc = -cross_val_score(sgd, x_train, y_train, cv=kfold, scoring='accuracy', verbose=False).mean() \n",
    "        return {'loss': neg_acc, 'status': STATUS_OK}\n",
    "    \n",
    "    loss = ['hinge', 'log', 'perceptron', 'modified_huber']\n",
    "    penalty = ['l1', 'l2']\n",
    "\n",
    "    search_space = {\n",
    "        'loss': hp.choice('loss', loss),\n",
    "        'alpha': hp.loguniform('alpha', -8, -1),\n",
    "        'penalty': hp.choice('penalty', penalty),\n",
    "        'tol': hp.loguniform('tol', -4, 0)\n",
    "    }\n",
    "\n",
    "    best_result = fmin(\n",
    "        fn=objective,\n",
    "        space=search_space,\n",
    "        algo=tpe.suggest,\n",
    "        max_evals=1000,\n",
    "        trials=Trials()\n",
    "    )\n",
    "\n",
    "    best_result['loss'] = loss[best_result['loss']]\n",
    "    best_result['penalty'] = penalty[best_result['penalty']]\n",
    "\n",
    "    return best_result"
   ]
  },
  {
   "cell_type": "code",
   "execution_count": null,
   "id": "039f19f8",
   "metadata": {},
   "outputs": [],
   "source": []
  },
  {
   "cell_type": "code",
   "execution_count": 202,
   "id": "5f1ddfaa",
   "metadata": {},
   "outputs": [
    {
     "name": "stdout",
     "output_type": "stream",
     "text": [
      "100%|████████████████████████████████████████████████████████████████████████████████| 1000/1000 [00:58<00:00, 17.03trial/s, best loss: -0.7882836587872559]\n"
     ]
    }
   ],
   "source": [
    "params = hyperopt_search(x_train, df_train.sentiment, search_space)"
   ]
  },
  {
   "cell_type": "code",
   "execution_count": 203,
   "id": "f55b6149",
   "metadata": {},
   "outputs": [
    {
     "data": {
      "text/plain": [
       "{'alpha': 0.00033562385583315647,\n",
       " 'loss': 'modified_huber',\n",
       " 'penalty': 'l2',\n",
       " 'tol': 0.07672722709490018}"
      ]
     },
     "execution_count": 203,
     "metadata": {},
     "output_type": "execute_result"
    }
   ],
   "source": [
    "params"
   ]
  },
  {
   "cell_type": "code",
   "execution_count": 212,
   "id": "3b88f15a",
   "metadata": {},
   "outputs": [],
   "source": [
    "def train_best_model(x_train, y_train, x_test, y_test, params):\n",
    "    sgd = SGDClassifier(max_iter=1000, **params)\n",
    "    sgd.fit(x_train, y_train)\n",
    "    predicted = sgd.predict(x_test)\n",
    "\n",
    "    return accuracy_score(y_test, predicted), f1_score(y_test, predicted, average='macro')"
   ]
  },
  {
   "cell_type": "code",
   "execution_count": 205,
   "id": "76f80718",
   "metadata": {},
   "outputs": [
    {
     "data": {
      "text/plain": [
       "(0.7888249794576828, 0.6851497684823272)"
      ]
     },
     "execution_count": 205,
     "metadata": {},
     "output_type": "execute_result"
    }
   ],
   "source": [
    "train_best_model(x_train, df_train.sentiment, x_test, df_test.sentiment, params)"
   ]
  },
  {
   "cell_type": "code",
   "execution_count": 216,
   "id": "2ff0830c",
   "metadata": {},
   "outputs": [
    {
     "name": "stdout",
     "output_type": "stream",
     "text": [
      "100%|████████████████████████████████████████████████████████████████████████████████| 1000/1000 [01:27<00:00, 11.39trial/s, best loss: -0.7843782117163413]\n"
     ]
    },
    {
     "data": {
      "text/plain": [
       "(0.7871815940838126, 0.6812598597825724)"
      ]
     },
     "execution_count": 216,
     "metadata": {},
     "output_type": "execute_result"
    }
   ],
   "source": [
    "vectorizer_params = dict(ngram_range=(1, 2), max_df=0.8)\n",
    "x_train, x_test, y_train, y_test, _, _ = prepare_data_splits(df, vectorizer_params)\n",
    "params = hyperopt_search(x_train, y_train, search_space)\n",
    "train_best_model(x_train, y_train, x_test, y_test, params)"
   ]
  },
  {
   "cell_type": "code",
   "execution_count": 217,
   "id": "3f206955",
   "metadata": {},
   "outputs": [
    {
     "name": "stdout",
     "output_type": "stream",
     "text": [
      "100%|████████████████████████████████████████████████████████████████████████████████| 1000/1000 [01:04<00:00, 15.62trial/s, best loss: -0.7683453237410072]\n"
     ]
    },
    {
     "data": {
      "text/plain": [
       "(0.7551355792933443, 0.6593593665186033)"
      ]
     },
     "execution_count": 217,
     "metadata": {},
     "output_type": "execute_result"
    }
   ],
   "source": [
    "vectorizer_params = dict(ngram_range=(2, 2), max_df=0.8)\n",
    "x_train, x_test, y_train, y_test, _, _ = prepare_data_splits(df, vectorizer_params)\n",
    "params = hyperopt_search(x_train, y_train, search_space)\n",
    "train_best_model(x_train, y_train, x_test, y_test, params)"
   ]
  },
  {
   "cell_type": "code",
   "execution_count": 218,
   "id": "4985420c",
   "metadata": {},
   "outputs": [
    {
     "name": "stdout",
     "output_type": "stream",
     "text": [
      "100%|████████████████████████████████████████████████████████████████████████████████| 1000/1000 [01:43<00:00,  9.67trial/s, best loss: -0.7757451181911614]\n"
     ]
    },
    {
     "data": {
      "text/plain": [
       "(0.7691043549712407, 0.6608638355645332)"
      ]
     },
     "execution_count": 218,
     "metadata": {},
     "output_type": "execute_result"
    }
   ],
   "source": [
    "vectorizer_params = dict(ngram_range=(1, 3), max_df=0.8)\n",
    "x_train, x_test, y_train, y_test, _, _ = prepare_data_splits(df, vectorizer_params)\n",
    "params = hyperopt_search(x_train, y_train, search_space)\n",
    "train_best_model(x_train, y_train, x_test, y_test, params)"
   ]
  },
  {
   "cell_type": "code",
   "execution_count": 219,
   "id": "fefbb817",
   "metadata": {},
   "outputs": [
    {
     "name": "stdout",
     "output_type": "stream",
     "text": [
      "100%|████████████████████████████████████████████████████████████████████████████████| 1000/1000 [00:57<00:00, 17.36trial/s, best loss: -0.7868448098663926]\n"
     ]
    },
    {
     "data": {
      "text/plain": [
       "(0.7822514379622021, 0.6697735030238526)"
      ]
     },
     "execution_count": 219,
     "metadata": {},
     "output_type": "execute_result"
    }
   ],
   "source": [
    "vectorizer_params = dict(ngram_range=(1, 1), max_df=0.8)\n",
    "x_train, x_test, y_train, y_test, _, _ = prepare_data_splits(df, vectorizer_params)\n",
    "params = hyperopt_search(x_train, y_train, search_space)\n",
    "train_best_model(x_train, y_train, x_test, y_test, params)"
   ]
  },
  {
   "cell_type": "code",
   "execution_count": 214,
   "id": "519a7f19",
   "metadata": {},
   "outputs": [
    {
     "data": {
      "text/plain": [
       "{'alpha': 0.0005918613003051993,\n",
       " 'loss': 'modified_huber',\n",
       " 'penalty': 'l2',\n",
       " 'tol': 0.3204223406108451}"
      ]
     },
     "execution_count": 214,
     "metadata": {},
     "output_type": "execute_result"
    }
   ],
   "source": [
    "params"
   ]
  },
  {
   "cell_type": "code",
   "execution_count": null,
   "id": "83ee7bd2",
   "metadata": {},
   "outputs": [],
   "source": []
  }
 ],
 "metadata": {
  "kernelspec": {
   "display_name": "Python 3 (ipykernel)",
   "language": "python",
   "name": "python3"
  },
  "language_info": {
   "codemirror_mode": {
    "name": "ipython",
    "version": 3
   },
   "file_extension": ".py",
   "mimetype": "text/x-python",
   "name": "python",
   "nbconvert_exporter": "python",
   "pygments_lexer": "ipython3",
   "version": "3.8.10"
  }
 },
 "nbformat": 4,
 "nbformat_minor": 5
}
