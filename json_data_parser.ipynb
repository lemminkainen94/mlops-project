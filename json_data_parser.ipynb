{
 "cells": [
  {
   "cell_type": "code",
   "execution_count": 1,
   "id": "700700ae",
   "metadata": {},
   "outputs": [
    {
     "name": "stderr",
     "output_type": "stream",
     "text": [
      "C:\\Users\\wojtek\\anaconda3\\lib\\site-packages\\numpy\\_distributor_init.py:30: UserWarning: loaded more than 1 DLL from .libs:\n",
      "C:\\Users\\wojtek\\anaconda3\\lib\\site-packages\\numpy\\.libs\\libopenblas.EL2C6PLE4ZYW3ECEVIV3OXXGRN2NRFM2.gfortran-win_amd64.dll\n",
      "C:\\Users\\wojtek\\anaconda3\\lib\\site-packages\\numpy\\.libs\\libopenblas.FB5AE2TYXYH2IJRDKGDGQ3XBKLKTF43H.gfortran-win_amd64.dll\n",
      "  warnings.warn(\"loaded more than 1 DLL from .libs:\"\n"
     ]
    }
   ],
   "source": [
    "import json\n",
    "import numpy as np\n",
    "import pandas as pd\n",
    "import os"
   ]
  },
  {
   "cell_type": "code",
   "execution_count": 35,
   "id": "622ab112",
   "metadata": {},
   "outputs": [
    {
     "data": {
      "text/plain": [
       "['dataset_crawler-google-places_2022-07-05_09-55-42-524.json',\n",
       " 'dataset_crawler-google-places_2022-07-05_22-40-12-836.json',\n",
       " 'dataset_crawler-google-places_2022-07-06_08-10-01-016.json',\n",
       " 'dataset_crawler-google-places_2022-07-06_09-04-52-505.json']"
      ]
     },
     "execution_count": 35,
     "metadata": {},
     "output_type": "execute_result"
    }
   ],
   "source": [
    "os.listdir('data')"
   ]
  },
  {
   "cell_type": "code",
   "execution_count": 37,
   "id": "6e49df3c",
   "metadata": {},
   "outputs": [],
   "source": [
    "data = []\n",
    "\n",
    "for file in os.listdir('data'):\n",
    "    with open('data/' + file, encoding='utf-8') as f:\n",
    "        data.append(json.load(f))"
   ]
  },
  {
   "cell_type": "code",
   "execution_count": 38,
   "id": "68adb858",
   "metadata": {},
   "outputs": [
    {
     "data": {
      "text/plain": [
       "4"
      ]
     },
     "execution_count": 38,
     "metadata": {},
     "output_type": "execute_result"
    }
   ],
   "source": [
    "len(data)"
   ]
  },
  {
   "cell_type": "code",
   "execution_count": 45,
   "id": "7f45ec54",
   "metadata": {},
   "outputs": [
    {
     "data": {
      "text/plain": [
       "418"
      ]
     },
     "execution_count": 45,
     "metadata": {},
     "output_type": "execute_result"
    }
   ],
   "source": [
    "sum([len(x) for x in data])"
   ]
  },
  {
   "cell_type": "code",
   "execution_count": 49,
   "id": "88ff7276",
   "metadata": {},
   "outputs": [
    {
     "data": {
      "text/plain": [
       "1490507"
      ]
     },
     "execution_count": 49,
     "metadata": {},
     "output_type": "execute_result"
    }
   ],
   "source": [
    "sum([x['reviewsCount'] for data_pull in data for x in data_pull])"
   ]
  },
  {
   "cell_type": "code",
   "execution_count": 43,
   "id": "c7a67b90",
   "metadata": {},
   "outputs": [
    {
     "data": {
      "text/plain": [
       "120853"
      ]
     },
     "execution_count": 43,
     "metadata": {},
     "output_type": "execute_result"
    }
   ],
   "source": [
    "sum([len(x['reviews']) for data_pull in data for x in data_pull])"
   ]
  },
  {
   "cell_type": "code",
   "execution_count": 42,
   "id": "6c1c5197",
   "metadata": {},
   "outputs": [
    {
     "data": {
      "text/plain": [
       "75399"
      ]
     },
     "execution_count": 42,
     "metadata": {},
     "output_type": "execute_result"
    }
   ],
   "source": [
    "len([r for data_pull in data for x in data_pull for r in x['reviews'] if r['text'] is not None])"
   ]
  },
  {
   "cell_type": "markdown",
   "id": "8983e3c2",
   "metadata": {},
   "source": [
    "So the data comes from 418 restaurants and the sum of review counts is 149k, but there are actually only 120853 reviews scraped, 75399 with a text, probably due to per-location review limit I specified (max 500 per restaurants).\n",
    "\n",
    "  \n",
    "As for what data I want to extract, this would be, for each review, the text, the stars and the publishedAtDate\n",
    "And the restaurant name as well. Not sure what else, but I can always revisit."
   ]
  },
  {
   "cell_type": "code",
   "execution_count": 41,
   "id": "b42e7909",
   "metadata": {},
   "outputs": [
    {
     "data": {
      "text/plain": [
       "120853"
      ]
     },
     "execution_count": 41,
     "metadata": {},
     "output_type": "execute_result"
    }
   ],
   "source": [
    "data_list = []\n",
    "for data_pull in data:\n",
    "    for rest in data_pull:\n",
    "        for r in rest['reviews']:\n",
    "            data_list.append({\n",
    "                'name': rest['title'],\n",
    "                'city': rest['city'],\n",
    "                'category': rest['categoryName'],\n",
    "                'stars': r['stars'],\n",
    "                'publishedAt': r['publishedAtDate'],\n",
    "                'text': r['text'] if r['text'] is not None else '',\n",
    "                'reviewId': r['reviewId']\n",
    "            })\n",
    "\n",
    "len(data_list)"
   ]
  },
  {
   "cell_type": "code",
   "execution_count": 44,
   "id": "fdfd1a2b",
   "metadata": {},
   "outputs": [],
   "source": [
    "df = pd.DataFrame(data_list)"
   ]
  },
  {
   "cell_type": "code",
   "execution_count": 24,
   "id": "92f8e573",
   "metadata": {},
   "outputs": [
    {
     "data": {
      "text/html": [
       "<div>\n",
       "<style scoped>\n",
       "    .dataframe tbody tr th:only-of-type {\n",
       "        vertical-align: middle;\n",
       "    }\n",
       "\n",
       "    .dataframe tbody tr th {\n",
       "        vertical-align: top;\n",
       "    }\n",
       "\n",
       "    .dataframe thead th {\n",
       "        text-align: right;\n",
       "    }\n",
       "</style>\n",
       "<table border=\"1\" class=\"dataframe\">\n",
       "  <thead>\n",
       "    <tr style=\"text-align: right;\">\n",
       "      <th></th>\n",
       "      <th>name</th>\n",
       "      <th>category</th>\n",
       "      <th>stars</th>\n",
       "      <th>publishedAt</th>\n",
       "      <th>text</th>\n",
       "      <th>reviewId</th>\n",
       "    </tr>\n",
       "  </thead>\n",
       "  <tbody>\n",
       "    <tr>\n",
       "      <th>0</th>\n",
       "      <td>Restauracja Zeppelin</td>\n",
       "      <td>Restaurant</td>\n",
       "      <td>5</td>\n",
       "      <td>2022-06-30T06:24:21.963Z</td>\n",
       "      <td></td>\n",
       "      <td>ChdDSUhNMG9nS0VJQ0FnSURPM0lHMWp3RRAB</td>\n",
       "    </tr>\n",
       "    <tr>\n",
       "      <th>1</th>\n",
       "      <td>Restauracja Zeppelin</td>\n",
       "      <td>Restaurant</td>\n",
       "      <td>3</td>\n",
       "      <td>2020-09-11T18:41:45.985Z</td>\n",
       "      <td>(Translated by Google) It's hard for me to com...</td>\n",
       "      <td>ChdDSUhNMG9nS0VJQ0FnSURDME4yeDR3RRAB</td>\n",
       "    </tr>\n",
       "    <tr>\n",
       "      <th>2</th>\n",
       "      <td>Restauracja Zeppelin</td>\n",
       "      <td>Restaurant</td>\n",
       "      <td>4</td>\n",
       "      <td>2020-08-23T09:37:34.413Z</td>\n",
       "      <td>(Translated by Google) Place in a good locatio...</td>\n",
       "      <td>ChZDSUhNMG9nS0VJQ0FnSUNDN3REWFlnEAE</td>\n",
       "    </tr>\n",
       "    <tr>\n",
       "      <th>3</th>\n",
       "      <td>Restauracja Zeppelin</td>\n",
       "      <td>Restaurant</td>\n",
       "      <td>5</td>\n",
       "      <td>2020-08-20T16:42:43.746Z</td>\n",
       "      <td>(Translated by Google) Delicious food, profess...</td>\n",
       "      <td>ChdDSUhNMG9nS0VJQ0FnSUNDMnFyOHNRRRAB</td>\n",
       "    </tr>\n",
       "    <tr>\n",
       "      <th>4</th>\n",
       "      <td>Restauracja Zeppelin</td>\n",
       "      <td>Restaurant</td>\n",
       "      <td>5</td>\n",
       "      <td>2020-03-25T21:20:03.338Z</td>\n",
       "      <td>(Translated by Google) With all the locality a...</td>\n",
       "      <td>ChZDSUhNMG9nS0VJQ0FnSUNjX2Ztc0FnEAE</td>\n",
       "    </tr>\n",
       "  </tbody>\n",
       "</table>\n",
       "</div>"
      ],
      "text/plain": [
       "                   name    category  stars               publishedAt  \\\n",
       "0  Restauracja Zeppelin  Restaurant      5  2022-06-30T06:24:21.963Z   \n",
       "1  Restauracja Zeppelin  Restaurant      3  2020-09-11T18:41:45.985Z   \n",
       "2  Restauracja Zeppelin  Restaurant      4  2020-08-23T09:37:34.413Z   \n",
       "3  Restauracja Zeppelin  Restaurant      5  2020-08-20T16:42:43.746Z   \n",
       "4  Restauracja Zeppelin  Restaurant      5  2020-03-25T21:20:03.338Z   \n",
       "\n",
       "                                                text  \\\n",
       "0                                                      \n",
       "1  (Translated by Google) It's hard for me to com...   \n",
       "2  (Translated by Google) Place in a good locatio...   \n",
       "3  (Translated by Google) Delicious food, profess...   \n",
       "4  (Translated by Google) With all the locality a...   \n",
       "\n",
       "                               reviewId  \n",
       "0  ChdDSUhNMG9nS0VJQ0FnSURPM0lHMWp3RRAB  \n",
       "1  ChdDSUhNMG9nS0VJQ0FnSURDME4yeDR3RRAB  \n",
       "2   ChZDSUhNMG9nS0VJQ0FnSUNDN3REWFlnEAE  \n",
       "3  ChdDSUhNMG9nS0VJQ0FnSUNDMnFyOHNRRRAB  \n",
       "4   ChZDSUhNMG9nS0VJQ0FnSUNjX2Ztc0FnEAE  "
      ]
     },
     "execution_count": 24,
     "metadata": {},
     "output_type": "execute_result"
    }
   ],
   "source": [
    "df.head()"
   ]
  },
  {
   "cell_type": "code",
   "execution_count": 50,
   "id": "dc1f342f",
   "metadata": {},
   "outputs": [
    {
     "data": {
      "text/plain": [
       "(120853, 7)"
      ]
     },
     "execution_count": 50,
     "metadata": {},
     "output_type": "execute_result"
    }
   ],
   "source": [
    "df[df.publishedAt.str.contains('Z')].shape"
   ]
  },
  {
   "cell_type": "code",
   "execution_count": 51,
   "id": "4533811b",
   "metadata": {},
   "outputs": [
    {
     "data": {
      "text/html": [
       "<div>\n",
       "<style scoped>\n",
       "    .dataframe tbody tr th:only-of-type {\n",
       "        vertical-align: middle;\n",
       "    }\n",
       "\n",
       "    .dataframe tbody tr th {\n",
       "        vertical-align: top;\n",
       "    }\n",
       "\n",
       "    .dataframe thead th {\n",
       "        text-align: right;\n",
       "    }\n",
       "</style>\n",
       "<table border=\"1\" class=\"dataframe\">\n",
       "  <thead>\n",
       "    <tr style=\"text-align: right;\">\n",
       "      <th></th>\n",
       "      <th>name</th>\n",
       "      <th>city</th>\n",
       "      <th>category</th>\n",
       "      <th>stars</th>\n",
       "      <th>publishedAt</th>\n",
       "      <th>text</th>\n",
       "      <th>reviewId</th>\n",
       "    </tr>\n",
       "  </thead>\n",
       "  <tbody>\n",
       "    <tr>\n",
       "      <th>0</th>\n",
       "      <td>Restauracja Zeppelin</td>\n",
       "      <td>Gdańsk</td>\n",
       "      <td>Restaurant</td>\n",
       "      <td>5.0</td>\n",
       "      <td>2022-06-30 06:24:21.963</td>\n",
       "      <td></td>\n",
       "      <td>ChdDSUhNMG9nS0VJQ0FnSURPM0lHMWp3RRAB</td>\n",
       "    </tr>\n",
       "    <tr>\n",
       "      <th>1</th>\n",
       "      <td>Restauracja Zeppelin</td>\n",
       "      <td>Gdańsk</td>\n",
       "      <td>Restaurant</td>\n",
       "      <td>3.0</td>\n",
       "      <td>2020-09-11 18:41:45.985</td>\n",
       "      <td>(Translated by Google) It's hard for me to com...</td>\n",
       "      <td>ChdDSUhNMG9nS0VJQ0FnSURDME4yeDR3RRAB</td>\n",
       "    </tr>\n",
       "    <tr>\n",
       "      <th>2</th>\n",
       "      <td>Restauracja Zeppelin</td>\n",
       "      <td>Gdańsk</td>\n",
       "      <td>Restaurant</td>\n",
       "      <td>4.0</td>\n",
       "      <td>2020-08-23 09:37:34.413</td>\n",
       "      <td>(Translated by Google) Place in a good locatio...</td>\n",
       "      <td>ChZDSUhNMG9nS0VJQ0FnSUNDN3REWFlnEAE</td>\n",
       "    </tr>\n",
       "    <tr>\n",
       "      <th>3</th>\n",
       "      <td>Restauracja Zeppelin</td>\n",
       "      <td>Gdańsk</td>\n",
       "      <td>Restaurant</td>\n",
       "      <td>5.0</td>\n",
       "      <td>2020-08-20 16:42:43.746</td>\n",
       "      <td>(Translated by Google) Delicious food, profess...</td>\n",
       "      <td>ChdDSUhNMG9nS0VJQ0FnSUNDMnFyOHNRRRAB</td>\n",
       "    </tr>\n",
       "    <tr>\n",
       "      <th>4</th>\n",
       "      <td>Restauracja Zeppelin</td>\n",
       "      <td>Gdańsk</td>\n",
       "      <td>Restaurant</td>\n",
       "      <td>5.0</td>\n",
       "      <td>2020-03-25 21:20:03.338</td>\n",
       "      <td>(Translated by Google) With all the locality a...</td>\n",
       "      <td>ChZDSUhNMG9nS0VJQ0FnSUNjX2Ztc0FnEAE</td>\n",
       "    </tr>\n",
       "  </tbody>\n",
       "</table>\n",
       "</div>"
      ],
      "text/plain": [
       "                   name    city    category  stars             publishedAt  \\\n",
       "0  Restauracja Zeppelin  Gdańsk  Restaurant    5.0 2022-06-30 06:24:21.963   \n",
       "1  Restauracja Zeppelin  Gdańsk  Restaurant    3.0 2020-09-11 18:41:45.985   \n",
       "2  Restauracja Zeppelin  Gdańsk  Restaurant    4.0 2020-08-23 09:37:34.413   \n",
       "3  Restauracja Zeppelin  Gdańsk  Restaurant    5.0 2020-08-20 16:42:43.746   \n",
       "4  Restauracja Zeppelin  Gdańsk  Restaurant    5.0 2020-03-25 21:20:03.338   \n",
       "\n",
       "                                                text  \\\n",
       "0                                                      \n",
       "1  (Translated by Google) It's hard for me to com...   \n",
       "2  (Translated by Google) Place in a good locatio...   \n",
       "3  (Translated by Google) Delicious food, profess...   \n",
       "4  (Translated by Google) With all the locality a...   \n",
       "\n",
       "                               reviewId  \n",
       "0  ChdDSUhNMG9nS0VJQ0FnSURPM0lHMWp3RRAB  \n",
       "1  ChdDSUhNMG9nS0VJQ0FnSURDME4yeDR3RRAB  \n",
       "2   ChZDSUhNMG9nS0VJQ0FnSUNDN3REWFlnEAE  \n",
       "3  ChdDSUhNMG9nS0VJQ0FnSUNDMnFyOHNRRRAB  \n",
       "4   ChZDSUhNMG9nS0VJQ0FnSUNjX2Ztc0FnEAE  "
      ]
     },
     "execution_count": 51,
     "metadata": {},
     "output_type": "execute_result"
    }
   ],
   "source": [
    "df.publishedAt = df.publishedAt.apply(lambda x: pd.Timestamp(x.split('Z')[0]))\n",
    "\n",
    "df.head()"
   ]
  },
  {
   "cell_type": "code",
   "execution_count": 59,
   "id": "c5db85af",
   "metadata": {},
   "outputs": [
    {
     "data": {
      "text/plain": [
       "319"
      ]
     },
     "execution_count": 59,
     "metadata": {},
     "output_type": "execute_result"
    }
   ],
   "source": [
    "df.drop_duplicates(subset=['reviewId']).name.nunique()"
   ]
  },
  {
   "cell_type": "code",
   "execution_count": 60,
   "id": "cc647d8c",
   "metadata": {},
   "outputs": [],
   "source": [
    "df.drop_duplicates(subset=['reviewId'], inplace=True)"
   ]
  },
  {
   "cell_type": "code",
   "execution_count": 61,
   "id": "6e41b8f4",
   "metadata": {},
   "outputs": [],
   "source": [
    "df.to_csv('319_rest_revs.csv', index=False)\n",
    "df.to_json('319_rest_revs.json')"
   ]
  },
  {
   "cell_type": "code",
   "execution_count": 62,
   "id": "52a2a02a",
   "metadata": {},
   "outputs": [
    {
     "data": {
      "text/plain": [
       "Restaurant                    27705\n",
       "Polish restaurant              6017\n",
       "Pizza restaurant               6014\n",
       "American restaurant            3925\n",
       "European restaurant            3693\n",
       "                              ...  \n",
       "Small plates restaurant           6\n",
       "Tourist information center        4\n",
       "Non-profit organization           3\n",
       "Takeaway                          2\n",
       "Seafood wholesaler                1\n",
       "Name: category, Length: 89, dtype: int64"
      ]
     },
     "execution_count": 62,
     "metadata": {},
     "output_type": "execute_result"
    }
   ],
   "source": [
    "df.category.value_counts()"
   ]
  },
  {
   "cell_type": "code",
   "execution_count": 63,
   "id": "4dbd31af",
   "metadata": {},
   "outputs": [
    {
     "data": {
      "text/plain": [
       "Żabka                                    1259\n",
       "Junior's Restaurant & Bakery             1000\n",
       "McDonald's                               1000\n",
       "Krowarzywa Vegan Burger                   537\n",
       "Billy's American Restaurants Chmielna     508\n",
       "                                         ... \n",
       "Planets Pride Polska Sp. z o.o.             1\n",
       "Restauracja Qubus Gdańsk                    1\n",
       "Meating Point Zwycięstwa 13a                1\n",
       "Burgerland Meat & Vege                      1\n",
       "Chilly Willy Gdańsk                         1\n",
       "Name: name, Length: 319, dtype: int64"
      ]
     },
     "execution_count": 63,
     "metadata": {},
     "output_type": "execute_result"
    }
   ],
   "source": [
    "df.name.value_counts()"
   ]
  },
  {
   "cell_type": "code",
   "execution_count": 55,
   "id": "bd69d27b",
   "metadata": {},
   "outputs": [
    {
     "data": {
      "text/plain": [
       "98464"
      ]
     },
     "execution_count": 55,
     "metadata": {},
     "output_type": "execute_result"
    }
   ],
   "source": [
    "df.reviewId.nunique()"
   ]
  },
  {
   "cell_type": "code",
   "execution_count": 65,
   "id": "d8406849",
   "metadata": {},
   "outputs": [
    {
     "data": {
      "text/plain": [
       "Gdańsk              76186\n",
       "Sopot                4225\n",
       "Las Vegas            2716\n",
       "Chicago              2342\n",
       "New York             1260\n",
       "Seattle              1088\n",
       "Dayton                565\n",
       "Ridgedale             561\n",
       "Aventura              508\n",
       "Colorado Springs      500\n",
       "København K           500\n",
       "Brooklyn              500\n",
       "Omaha                 500\n",
       "Asheville             500\n",
       "Miami                 500\n",
       "Paris                 500\n",
       "Destin                500\n",
       "Cherokee              500\n",
       "Atlantic City         500\n",
       "Lake Buena Vista      500\n",
       "Vienna                480\n",
       "Pebble Beach          449\n",
       "Vitacura              358\n",
       "Lynnwood              340\n",
       "New Orleans           325\n",
       "Gardone Riviera       320\n",
       "Jensen Beach          275\n",
       "Derby                 194\n",
       "Orlando               167\n",
       "Hyde Park             154\n",
       "Raleigh               141\n",
       "Atlantic Beach         88\n",
       "Vero Beach             58\n",
       "Chamonix               55\n",
       "Southlake              49\n",
       "Oxon Hill              46\n",
       "Lexington               7\n",
       "Des Moines              4\n",
       "Philadelphia            3\n",
       "Name: city, dtype: int64"
      ]
     },
     "execution_count": 65,
     "metadata": {},
     "output_type": "execute_result"
    }
   ],
   "source": [
    "df.city.value_counts()"
   ]
  },
  {
   "cell_type": "code",
   "execution_count": 68,
   "id": "95880f40",
   "metadata": {},
   "outputs": [
    {
     "data": {
      "text/plain": [
       "(248, 14)"
      ]
     },
     "execution_count": 68,
     "metadata": {},
     "output_type": "execute_result"
    }
   ],
   "source": [
    "df[df.city=='Gdańsk'].name.nunique(), df[df.city=='Sopot'].name.nunique()"
   ]
  },
  {
   "cell_type": "markdown",
   "id": "37a15fc5",
   "metadata": {},
   "source": [
    " All in all 248 restaurants in Gdansk and 14 in Sopot with over 80k reviews. Good start!"
   ]
  },
  {
   "cell_type": "code",
   "execution_count": 5,
   "id": "78233922",
   "metadata": {},
   "outputs": [
    {
     "data": {
      "text/html": [
       "<div>\n",
       "<style scoped>\n",
       "    .dataframe tbody tr th:only-of-type {\n",
       "        vertical-align: middle;\n",
       "    }\n",
       "\n",
       "    .dataframe tbody tr th {\n",
       "        vertical-align: top;\n",
       "    }\n",
       "\n",
       "    .dataframe thead th {\n",
       "        text-align: right;\n",
       "    }\n",
       "</style>\n",
       "<table border=\"1\" class=\"dataframe\">\n",
       "  <thead>\n",
       "    <tr style=\"text-align: right;\">\n",
       "      <th></th>\n",
       "      <th>id</th>\n",
       "      <th>name</th>\n",
       "      <th>city</th>\n",
       "      <th>category</th>\n",
       "      <th>stars</th>\n",
       "      <th>published_at</th>\n",
       "      <th>review_text</th>\n",
       "      <th>review_id</th>\n",
       "    </tr>\n",
       "  </thead>\n",
       "  <tbody>\n",
       "    <tr>\n",
       "      <th>0</th>\n",
       "      <td>0</td>\n",
       "      <td>Restauracja Zeppelin</td>\n",
       "      <td>Gdańsk</td>\n",
       "      <td>Restaurant</td>\n",
       "      <td>5</td>\n",
       "      <td>2022-06-30 06:24:21.963</td>\n",
       "      <td>NaN</td>\n",
       "      <td>ChdDSUhNMG9nS0VJQ0FnSURPM0lHMWp3RRAB</td>\n",
       "    </tr>\n",
       "    <tr>\n",
       "      <th>1</th>\n",
       "      <td>1</td>\n",
       "      <td>Restauracja Zeppelin</td>\n",
       "      <td>Gdańsk</td>\n",
       "      <td>Restaurant</td>\n",
       "      <td>3</td>\n",
       "      <td>2020-09-11 18:41:45.985</td>\n",
       "      <td>(Translated by Google) It's hard for me to com...</td>\n",
       "      <td>ChdDSUhNMG9nS0VJQ0FnSURDME4yeDR3RRAB</td>\n",
       "    </tr>\n",
       "    <tr>\n",
       "      <th>2</th>\n",
       "      <td>2</td>\n",
       "      <td>Restauracja Zeppelin</td>\n",
       "      <td>Gdańsk</td>\n",
       "      <td>Restaurant</td>\n",
       "      <td>4</td>\n",
       "      <td>2020-08-23 09:37:34.413</td>\n",
       "      <td>(Translated by Google) Place in a good locatio...</td>\n",
       "      <td>ChZDSUhNMG9nS0VJQ0FnSUNDN3REWFlnEAE</td>\n",
       "    </tr>\n",
       "    <tr>\n",
       "      <th>3</th>\n",
       "      <td>3</td>\n",
       "      <td>Restauracja Zeppelin</td>\n",
       "      <td>Gdańsk</td>\n",
       "      <td>Restaurant</td>\n",
       "      <td>5</td>\n",
       "      <td>2020-08-20 16:42:43.746</td>\n",
       "      <td>(Translated by Google) Delicious food, profess...</td>\n",
       "      <td>ChdDSUhNMG9nS0VJQ0FnSUNDMnFyOHNRRRAB</td>\n",
       "    </tr>\n",
       "    <tr>\n",
       "      <th>4</th>\n",
       "      <td>4</td>\n",
       "      <td>Restauracja Zeppelin</td>\n",
       "      <td>Gdańsk</td>\n",
       "      <td>Restaurant</td>\n",
       "      <td>5</td>\n",
       "      <td>2020-03-25 21:20:03.338</td>\n",
       "      <td>(Translated by Google) With all the locality a...</td>\n",
       "      <td>ChZDSUhNMG9nS0VJQ0FnSUNjX2Ztc0FnEAE</td>\n",
       "    </tr>\n",
       "  </tbody>\n",
       "</table>\n",
       "</div>"
      ],
      "text/plain": [
       "   id                  name    city    category  stars  \\\n",
       "0   0  Restauracja Zeppelin  Gdańsk  Restaurant      5   \n",
       "1   1  Restauracja Zeppelin  Gdańsk  Restaurant      3   \n",
       "2   2  Restauracja Zeppelin  Gdańsk  Restaurant      4   \n",
       "3   3  Restauracja Zeppelin  Gdańsk  Restaurant      5   \n",
       "4   4  Restauracja Zeppelin  Gdańsk  Restaurant      5   \n",
       "\n",
       "              published_at                                        review_text  \\\n",
       "0  2022-06-30 06:24:21.963                                                NaN   \n",
       "1  2020-09-11 18:41:45.985  (Translated by Google) It's hard for me to com...   \n",
       "2  2020-08-23 09:37:34.413  (Translated by Google) Place in a good locatio...   \n",
       "3  2020-08-20 16:42:43.746  (Translated by Google) Delicious food, profess...   \n",
       "4  2020-03-25 21:20:03.338  (Translated by Google) With all the locality a...   \n",
       "\n",
       "                              review_id  \n",
       "0  ChdDSUhNMG9nS0VJQ0FnSURPM0lHMWp3RRAB  \n",
       "1  ChdDSUhNMG9nS0VJQ0FnSURDME4yeDR3RRAB  \n",
       "2   ChZDSUhNMG9nS0VJQ0FnSUNDN3REWFlnEAE  \n",
       "3  ChdDSUhNMG9nS0VJQ0FnSUNDMnFyOHNRRRAB  \n",
       "4   ChZDSUhNMG9nS0VJQ0FnSUNjX2Ztc0FnEAE  "
      ]
     },
     "execution_count": 5,
     "metadata": {},
     "output_type": "execute_result"
    }
   ],
   "source": [
    "df = pd.read_csv('319_rest_revs.csv')\n",
    "df.stars = df.stars.astype('Int64')\n",
    "df.head()"
   ]
  },
  {
   "cell_type": "code",
   "execution_count": 4,
   "id": "eab29e42",
   "metadata": {},
   "outputs": [],
   "source": [
    "df.reset_index(inplace=True)"
   ]
  },
  {
   "cell_type": "code",
   "execution_count": 6,
   "id": "9ea723dc",
   "metadata": {},
   "outputs": [
    {
     "data": {
      "text/html": [
       "<div>\n",
       "<style scoped>\n",
       "    .dataframe tbody tr th:only-of-type {\n",
       "        vertical-align: middle;\n",
       "    }\n",
       "\n",
       "    .dataframe tbody tr th {\n",
       "        vertical-align: top;\n",
       "    }\n",
       "\n",
       "    .dataframe thead th {\n",
       "        text-align: right;\n",
       "    }\n",
       "</style>\n",
       "<table border=\"1\" class=\"dataframe\">\n",
       "  <thead>\n",
       "    <tr style=\"text-align: right;\">\n",
       "      <th></th>\n",
       "      <th>id</th>\n",
       "      <th>name</th>\n",
       "      <th>city</th>\n",
       "      <th>category</th>\n",
       "      <th>stars</th>\n",
       "      <th>published_at</th>\n",
       "      <th>review_text</th>\n",
       "      <th>review_id</th>\n",
       "    </tr>\n",
       "  </thead>\n",
       "  <tbody>\n",
       "    <tr>\n",
       "      <th>0</th>\n",
       "      <td>0</td>\n",
       "      <td>Restauracja Zeppelin</td>\n",
       "      <td>Gdańsk</td>\n",
       "      <td>Restaurant</td>\n",
       "      <td>5.0</td>\n",
       "      <td>2022-06-30 06:24:21.963</td>\n",
       "      <td>NaN</td>\n",
       "      <td>ChdDSUhNMG9nS0VJQ0FnSURPM0lHMWp3RRAB</td>\n",
       "    </tr>\n",
       "    <tr>\n",
       "      <th>1</th>\n",
       "      <td>1</td>\n",
       "      <td>Restauracja Zeppelin</td>\n",
       "      <td>Gdańsk</td>\n",
       "      <td>Restaurant</td>\n",
       "      <td>3.0</td>\n",
       "      <td>2020-09-11 18:41:45.985</td>\n",
       "      <td>(Translated by Google) It's hard for me to com...</td>\n",
       "      <td>ChdDSUhNMG9nS0VJQ0FnSURDME4yeDR3RRAB</td>\n",
       "    </tr>\n",
       "    <tr>\n",
       "      <th>2</th>\n",
       "      <td>2</td>\n",
       "      <td>Restauracja Zeppelin</td>\n",
       "      <td>Gdańsk</td>\n",
       "      <td>Restaurant</td>\n",
       "      <td>4.0</td>\n",
       "      <td>2020-08-23 09:37:34.413</td>\n",
       "      <td>(Translated by Google) Place in a good locatio...</td>\n",
       "      <td>ChZDSUhNMG9nS0VJQ0FnSUNDN3REWFlnEAE</td>\n",
       "    </tr>\n",
       "    <tr>\n",
       "      <th>3</th>\n",
       "      <td>3</td>\n",
       "      <td>Restauracja Zeppelin</td>\n",
       "      <td>Gdańsk</td>\n",
       "      <td>Restaurant</td>\n",
       "      <td>5.0</td>\n",
       "      <td>2020-08-20 16:42:43.746</td>\n",
       "      <td>(Translated by Google) Delicious food, profess...</td>\n",
       "      <td>ChdDSUhNMG9nS0VJQ0FnSUNDMnFyOHNRRRAB</td>\n",
       "    </tr>\n",
       "    <tr>\n",
       "      <th>4</th>\n",
       "      <td>4</td>\n",
       "      <td>Restauracja Zeppelin</td>\n",
       "      <td>Gdańsk</td>\n",
       "      <td>Restaurant</td>\n",
       "      <td>5.0</td>\n",
       "      <td>2020-03-25 21:20:03.338</td>\n",
       "      <td>(Translated by Google) With all the locality a...</td>\n",
       "      <td>ChZDSUhNMG9nS0VJQ0FnSUNjX2Ztc0FnEAE</td>\n",
       "    </tr>\n",
       "    <tr>\n",
       "      <th>...</th>\n",
       "      <td>...</td>\n",
       "      <td>...</td>\n",
       "      <td>...</td>\n",
       "      <td>...</td>\n",
       "      <td>...</td>\n",
       "      <td>...</td>\n",
       "      <td>...</td>\n",
       "      <td>...</td>\n",
       "    </tr>\n",
       "    <tr>\n",
       "      <th>98459</th>\n",
       "      <td>98459</td>\n",
       "      <td>Chinkalnia</td>\n",
       "      <td>Gdańsk</td>\n",
       "      <td>Georgian restaurant</td>\n",
       "      <td>5.0</td>\n",
       "      <td>2022-01-12 20:51:42.744</td>\n",
       "      <td>(Translated by Google) I'm glad that I discove...</td>\n",
       "      <td>ChZDSUhNMG9nS0VJQ0FnSUNtOV9TNk93EAE</td>\n",
       "    </tr>\n",
       "    <tr>\n",
       "      <th>98460</th>\n",
       "      <td>98460</td>\n",
       "      <td>Chinkalnia</td>\n",
       "      <td>Gdańsk</td>\n",
       "      <td>Georgian restaurant</td>\n",
       "      <td>5.0</td>\n",
       "      <td>2022-01-12 20:42:39.285</td>\n",
       "      <td>(Translated by Google) I was in a Georgian res...</td>\n",
       "      <td>ChZDSUhNMG9nS0VJQ0FnSUNtOTVTRUtREAE</td>\n",
       "    </tr>\n",
       "    <tr>\n",
       "      <th>98461</th>\n",
       "      <td>98461</td>\n",
       "      <td>Chinkalnia</td>\n",
       "      <td>Gdańsk</td>\n",
       "      <td>Georgian restaurant</td>\n",
       "      <td>5.0</td>\n",
       "      <td>2022-01-12 20:28:12.792</td>\n",
       "      <td>(Translated by Google) Very tasty. Lots of cho...</td>\n",
       "      <td>ChZDSUhNMG9nS0VJQ0FnSUNtOTdpN2NBEAE</td>\n",
       "    </tr>\n",
       "    <tr>\n",
       "      <th>98462</th>\n",
       "      <td>98462</td>\n",
       "      <td>Chinkalnia</td>\n",
       "      <td>Gdańsk</td>\n",
       "      <td>Georgian restaurant</td>\n",
       "      <td>5.0</td>\n",
       "      <td>2022-01-12 15:39:11.701</td>\n",
       "      <td>(Translated by Google) We were with my husband...</td>\n",
       "      <td>ChZDSUhNMG9nS0VJQ0FnSUNtdDdqM1R3EAE</td>\n",
       "    </tr>\n",
       "    <tr>\n",
       "      <th>98463</th>\n",
       "      <td>98463</td>\n",
       "      <td>Chinkalnia</td>\n",
       "      <td>Gdańsk</td>\n",
       "      <td>Georgian restaurant</td>\n",
       "      <td>5.0</td>\n",
       "      <td>2022-01-12 14:25:22.272</td>\n",
       "      <td>(Translated by Google) The restaurant is tasty...</td>\n",
       "      <td>ChdDSUhNMG9nS0VJQ0FnSUNtMTh1OXd3RRAB</td>\n",
       "    </tr>\n",
       "  </tbody>\n",
       "</table>\n",
       "<p>98464 rows × 8 columns</p>\n",
       "</div>"
      ],
      "text/plain": [
       "          id                  name    city             category  stars  \\\n",
       "0          0  Restauracja Zeppelin  Gdańsk           Restaurant    5.0   \n",
       "1          1  Restauracja Zeppelin  Gdańsk           Restaurant    3.0   \n",
       "2          2  Restauracja Zeppelin  Gdańsk           Restaurant    4.0   \n",
       "3          3  Restauracja Zeppelin  Gdańsk           Restaurant    5.0   \n",
       "4          4  Restauracja Zeppelin  Gdańsk           Restaurant    5.0   \n",
       "...      ...                   ...     ...                  ...    ...   \n",
       "98459  98459            Chinkalnia  Gdańsk  Georgian restaurant    5.0   \n",
       "98460  98460            Chinkalnia  Gdańsk  Georgian restaurant    5.0   \n",
       "98461  98461            Chinkalnia  Gdańsk  Georgian restaurant    5.0   \n",
       "98462  98462            Chinkalnia  Gdańsk  Georgian restaurant    5.0   \n",
       "98463  98463            Chinkalnia  Gdańsk  Georgian restaurant    5.0   \n",
       "\n",
       "                  published_at  \\\n",
       "0      2022-06-30 06:24:21.963   \n",
       "1      2020-09-11 18:41:45.985   \n",
       "2      2020-08-23 09:37:34.413   \n",
       "3      2020-08-20 16:42:43.746   \n",
       "4      2020-03-25 21:20:03.338   \n",
       "...                        ...   \n",
       "98459  2022-01-12 20:51:42.744   \n",
       "98460  2022-01-12 20:42:39.285   \n",
       "98461  2022-01-12 20:28:12.792   \n",
       "98462  2022-01-12 15:39:11.701   \n",
       "98463  2022-01-12 14:25:22.272   \n",
       "\n",
       "                                             review_text  \\\n",
       "0                                                    NaN   \n",
       "1      (Translated by Google) It's hard for me to com...   \n",
       "2      (Translated by Google) Place in a good locatio...   \n",
       "3      (Translated by Google) Delicious food, profess...   \n",
       "4      (Translated by Google) With all the locality a...   \n",
       "...                                                  ...   \n",
       "98459  (Translated by Google) I'm glad that I discove...   \n",
       "98460  (Translated by Google) I was in a Georgian res...   \n",
       "98461  (Translated by Google) Very tasty. Lots of cho...   \n",
       "98462  (Translated by Google) We were with my husband...   \n",
       "98463  (Translated by Google) The restaurant is tasty...   \n",
       "\n",
       "                                  review_id  \n",
       "0      ChdDSUhNMG9nS0VJQ0FnSURPM0lHMWp3RRAB  \n",
       "1      ChdDSUhNMG9nS0VJQ0FnSURDME4yeDR3RRAB  \n",
       "2       ChZDSUhNMG9nS0VJQ0FnSUNDN3REWFlnEAE  \n",
       "3      ChdDSUhNMG9nS0VJQ0FnSUNDMnFyOHNRRRAB  \n",
       "4       ChZDSUhNMG9nS0VJQ0FnSUNjX2Ztc0FnEAE  \n",
       "...                                     ...  \n",
       "98459   ChZDSUhNMG9nS0VJQ0FnSUNtOV9TNk93EAE  \n",
       "98460   ChZDSUhNMG9nS0VJQ0FnSUNtOTVTRUtREAE  \n",
       "98461   ChZDSUhNMG9nS0VJQ0FnSUNtOTdpN2NBEAE  \n",
       "98462   ChZDSUhNMG9nS0VJQ0FnSUNtdDdqM1R3EAE  \n",
       "98463  ChdDSUhNMG9nS0VJQ0FnSUNtMTh1OXd3RRAB  \n",
       "\n",
       "[98464 rows x 8 columns]"
      ]
     },
     "execution_count": 6,
     "metadata": {},
     "output_type": "execute_result"
    }
   ],
   "source": [
    "df.rename(columns={'index': 'id'}, inplace=True)\n",
    "df"
   ]
  },
  {
   "cell_type": "code",
   "execution_count": 6,
   "id": "31ec6122",
   "metadata": {},
   "outputs": [],
   "source": [
    "df.to_csv('319_rest_revs.csv', index=False)"
   ]
  },
  {
   "cell_type": "code",
   "execution_count": 6,
   "id": "ee931c45",
   "metadata": {},
   "outputs": [
    {
     "data": {
      "text/html": [
       "<div>\n",
       "<style scoped>\n",
       "    .dataframe tbody tr th:only-of-type {\n",
       "        vertical-align: middle;\n",
       "    }\n",
       "\n",
       "    .dataframe tbody tr th {\n",
       "        vertical-align: top;\n",
       "    }\n",
       "\n",
       "    .dataframe thead th {\n",
       "        text-align: right;\n",
       "    }\n",
       "</style>\n",
       "<table border=\"1\" class=\"dataframe\">\n",
       "  <thead>\n",
       "    <tr style=\"text-align: right;\">\n",
       "      <th></th>\n",
       "      <th>id</th>\n",
       "      <th>name</th>\n",
       "      <th>city</th>\n",
       "      <th>category</th>\n",
       "      <th>stars</th>\n",
       "      <th>published_at</th>\n",
       "      <th>review_text</th>\n",
       "      <th>review_id</th>\n",
       "    </tr>\n",
       "  </thead>\n",
       "  <tbody>\n",
       "    <tr>\n",
       "      <th>0</th>\n",
       "      <td>0</td>\n",
       "      <td>Restauracja Zeppelin</td>\n",
       "      <td>Gdańsk</td>\n",
       "      <td>Restaurant</td>\n",
       "      <td>5</td>\n",
       "      <td>2022-06-30 06:24:21.963</td>\n",
       "      <td></td>\n",
       "      <td>ChdDSUhNMG9nS0VJQ0FnSURPM0lHMWp3RRAB</td>\n",
       "    </tr>\n",
       "    <tr>\n",
       "      <th>1</th>\n",
       "      <td>1</td>\n",
       "      <td>Restauracja Zeppelin</td>\n",
       "      <td>Gdańsk</td>\n",
       "      <td>Restaurant</td>\n",
       "      <td>3</td>\n",
       "      <td>2020-09-11 18:41:45.985</td>\n",
       "      <td>(Translated by Google) It's hard for me to com...</td>\n",
       "      <td>ChdDSUhNMG9nS0VJQ0FnSURDME4yeDR3RRAB</td>\n",
       "    </tr>\n",
       "    <tr>\n",
       "      <th>2</th>\n",
       "      <td>2</td>\n",
       "      <td>Restauracja Zeppelin</td>\n",
       "      <td>Gdańsk</td>\n",
       "      <td>Restaurant</td>\n",
       "      <td>4</td>\n",
       "      <td>2020-08-23 09:37:34.413</td>\n",
       "      <td>(Translated by Google) Place in a good locatio...</td>\n",
       "      <td>ChZDSUhNMG9nS0VJQ0FnSUNDN3REWFlnEAE</td>\n",
       "    </tr>\n",
       "    <tr>\n",
       "      <th>3</th>\n",
       "      <td>3</td>\n",
       "      <td>Restauracja Zeppelin</td>\n",
       "      <td>Gdańsk</td>\n",
       "      <td>Restaurant</td>\n",
       "      <td>5</td>\n",
       "      <td>2020-08-20 16:42:43.746</td>\n",
       "      <td>(Translated by Google) Delicious food, profess...</td>\n",
       "      <td>ChdDSUhNMG9nS0VJQ0FnSUNDMnFyOHNRRRAB</td>\n",
       "    </tr>\n",
       "    <tr>\n",
       "      <th>4</th>\n",
       "      <td>4</td>\n",
       "      <td>Restauracja Zeppelin</td>\n",
       "      <td>Gdańsk</td>\n",
       "      <td>Restaurant</td>\n",
       "      <td>5</td>\n",
       "      <td>2020-03-25 21:20:03.338</td>\n",
       "      <td>(Translated by Google) With all the locality a...</td>\n",
       "      <td>ChZDSUhNMG9nS0VJQ0FnSUNjX2Ztc0FnEAE</td>\n",
       "    </tr>\n",
       "  </tbody>\n",
       "</table>\n",
       "</div>"
      ],
      "text/plain": [
       "   id                  name    city    category  stars  \\\n",
       "0   0  Restauracja Zeppelin  Gdańsk  Restaurant      5   \n",
       "1   1  Restauracja Zeppelin  Gdańsk  Restaurant      3   \n",
       "2   2  Restauracja Zeppelin  Gdańsk  Restaurant      4   \n",
       "3   3  Restauracja Zeppelin  Gdańsk  Restaurant      5   \n",
       "4   4  Restauracja Zeppelin  Gdańsk  Restaurant      5   \n",
       "\n",
       "              published_at                                        review_text  \\\n",
       "0  2022-06-30 06:24:21.963                                                      \n",
       "1  2020-09-11 18:41:45.985  (Translated by Google) It's hard for me to com...   \n",
       "2  2020-08-23 09:37:34.413  (Translated by Google) Place in a good locatio...   \n",
       "3  2020-08-20 16:42:43.746  (Translated by Google) Delicious food, profess...   \n",
       "4  2020-03-25 21:20:03.338  (Translated by Google) With all the locality a...   \n",
       "\n",
       "                              review_id  \n",
       "0  ChdDSUhNMG9nS0VJQ0FnSURPM0lHMWp3RRAB  \n",
       "1  ChdDSUhNMG9nS0VJQ0FnSURDME4yeDR3RRAB  \n",
       "2   ChZDSUhNMG9nS0VJQ0FnSUNDN3REWFlnEAE  \n",
       "3  ChdDSUhNMG9nS0VJQ0FnSUNDMnFyOHNRRRAB  \n",
       "4   ChZDSUhNMG9nS0VJQ0FnSUNjX2Ztc0FnEAE  "
      ]
     },
     "execution_count": 6,
     "metadata": {},
     "output_type": "execute_result"
    }
   ],
   "source": [
    "df.fillna({'review_text': ''}, inplace=True)\n",
    "df.review_text = df.review_text.apply(lambda x: x.split('\\n')[0])\n",
    "df.head()"
   ]
  },
  {
   "cell_type": "code",
   "execution_count": 7,
   "id": "9f590e6a",
   "metadata": {},
   "outputs": [
    {
     "data": {
      "text/plain": [
       "array(['',\n",
       "       \"(Translated by Google) It's hard for me to comment .. we went to this restaurant for many years .. we held family parties and communion. Unfortunately, for the last few months the menu has been limited to items like .. um .. I would say bar-style .. burgers appeared, for example. The steaks are gone .. the fish .. today we just left the restaurant after a few minutes of studying the menu. We ate dinner elsewhere. But we came back for dessert in the form of ice cream .. actually .. everything would be ok .. if not for the bill .. the menu shows an ice cream dessert in the amount of PLN 12. However, there was 18 PLN on the bill. The nice waitress said that there was some error in the system. I hope the restaurant will return to its former shape. The ice cream from what I remember comes from the confectionery in Nowy Port and it was very good. But today hm .. I can't give more than 3 stars.\",\n",
       "       \"(Translated by Google) Place in a good location - relatively quiet in the garden for its location on the street! 👌🏽 it's a plus! The food is also correct, well served 🍴🥘 the only thing is a slightly sluggish waiter, he didn't know the menu very well, he didn't remember the soup and the dish of the day (it was 4:00 pm, you should probably know this time)! But I recommend it heartily! We also got a tasty coffee, and it's not easy to get good coffee!\",\n",
       "       '(Translated by Google) Delicious food, professional service, good prices. I recommend highly!',\n",
       "       \"(Translated by Google) With all the locality and respect for the tradition of Polish cuisine, there is also a place for new-born foods and combining new flavors. The hosts have culinary experience, a very nice space. The overall impression is definitely positive. In a word, it's worth visiting.\"],\n",
       "      dtype=object)"
      ]
     },
     "execution_count": 7,
     "metadata": {},
     "output_type": "execute_result"
    }
   ],
   "source": [
    "df.review_text.values[:5]"
   ]
  },
  {
   "cell_type": "code",
   "execution_count": 9,
   "id": "6f9c4db1",
   "metadata": {},
   "outputs": [],
   "source": [
    "df.to_csv('319_rest_revs_db.csv', index=False, header=False)"
   ]
  },
  {
   "cell_type": "code",
   "execution_count": null,
   "id": "91a513f0",
   "metadata": {},
   "outputs": [],
   "source": []
  }
 ],
 "metadata": {
  "kernelspec": {
   "display_name": "Python 3 (ipykernel)",
   "language": "python",
   "name": "python3"
  },
  "language_info": {
   "codemirror_mode": {
    "name": "ipython",
    "version": 3
   },
   "file_extension": ".py",
   "mimetype": "text/x-python",
   "name": "python",
   "nbconvert_exporter": "python",
   "pygments_lexer": "ipython3",
   "version": "3.8.10"
  }
 },
 "nbformat": 4,
 "nbformat_minor": 5
}
