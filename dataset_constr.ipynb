{
 "cells": [
  {
   "cell_type": "code",
   "execution_count": 1,
   "id": "59bdc09f",
   "metadata": {},
   "outputs": [
    {
     "name": "stderr",
     "output_type": "stream",
     "text": [
      "C:\\Users\\wojtek\\anaconda3\\lib\\site-packages\\numpy\\_distributor_init.py:30: UserWarning: loaded more than 1 DLL from .libs:\n",
      "C:\\Users\\wojtek\\anaconda3\\lib\\site-packages\\numpy\\.libs\\libopenblas.EL2C6PLE4ZYW3ECEVIV3OXXGRN2NRFM2.gfortran-win_amd64.dll\n",
      "C:\\Users\\wojtek\\anaconda3\\lib\\site-packages\\numpy\\.libs\\libopenblas.FB5AE2TYXYH2IJRDKGDGQ3XBKLKTF43H.gfortran-win_amd64.dll\n",
      "  warnings.warn(\"loaded more than 1 DLL from .libs:\"\n"
     ]
    }
   ],
   "source": [
    "import numpy as np\n",
    "import pandas as pd"
   ]
  },
  {
   "cell_type": "code",
   "execution_count": 2,
   "id": "c7e48e4c",
   "metadata": {},
   "outputs": [
    {
     "data": {
      "text/html": [
       "<div>\n",
       "<style scoped>\n",
       "    .dataframe tbody tr th:only-of-type {\n",
       "        vertical-align: middle;\n",
       "    }\n",
       "\n",
       "    .dataframe tbody tr th {\n",
       "        vertical-align: top;\n",
       "    }\n",
       "\n",
       "    .dataframe thead th {\n",
       "        text-align: right;\n",
       "    }\n",
       "</style>\n",
       "<table border=\"1\" class=\"dataframe\">\n",
       "  <thead>\n",
       "    <tr style=\"text-align: right;\">\n",
       "      <th></th>\n",
       "      <th>text_id</th>\n",
       "      <th>target</th>\n",
       "      <th>sentiment</th>\n",
       "      <th>text</th>\n",
       "    </tr>\n",
       "  </thead>\n",
       "  <tbody>\n",
       "    <tr>\n",
       "      <th>0</th>\n",
       "      <td>681563394940473347</td>\n",
       "      <td>amy schumer</td>\n",
       "      <td>-1</td>\n",
       "      <td>@MargaretsBelly Amy Schumer is the stereotypic...</td>\n",
       "    </tr>\n",
       "    <tr>\n",
       "      <th>1</th>\n",
       "      <td>675847244747177984</td>\n",
       "      <td>amy schumer</td>\n",
       "      <td>-1</td>\n",
       "      <td>@dani_pitter I mean I get the hype around JLaw...</td>\n",
       "    </tr>\n",
       "    <tr>\n",
       "      <th>2</th>\n",
       "      <td>672827854279843840</td>\n",
       "      <td>amy schumer</td>\n",
       "      <td>-1</td>\n",
       "      <td>Amy Schumer at the #GQmenoftheyear2015 party i...</td>\n",
       "    </tr>\n",
       "    <tr>\n",
       "      <th>3</th>\n",
       "      <td>671502639671042048</td>\n",
       "      <td>amy schumer</td>\n",
       "      <td>-1</td>\n",
       "      <td>Amy Schumer may have brought us Trainwreck, bu...</td>\n",
       "    </tr>\n",
       "    <tr>\n",
       "      <th>4</th>\n",
       "      <td>677359143108214784</td>\n",
       "      <td>amy schumer</td>\n",
       "      <td>-1</td>\n",
       "      <td>Not Available</td>\n",
       "    </tr>\n",
       "  </tbody>\n",
       "</table>\n",
       "</div>"
      ],
      "text/plain": [
       "              text_id       target  sentiment  \\\n",
       "0  681563394940473347  amy schumer         -1   \n",
       "1  675847244747177984  amy schumer         -1   \n",
       "2  672827854279843840  amy schumer         -1   \n",
       "3  671502639671042048  amy schumer         -1   \n",
       "4  677359143108214784  amy schumer         -1   \n",
       "\n",
       "                                                text  \n",
       "0  @MargaretsBelly Amy Schumer is the stereotypic...  \n",
       "1  @dani_pitter I mean I get the hype around JLaw...  \n",
       "2  Amy Schumer at the #GQmenoftheyear2015 party i...  \n",
       "3  Amy Schumer may have brought us Trainwreck, bu...  \n",
       "4                                      Not Available  "
      ]
     },
     "execution_count": 2,
     "metadata": {},
     "output_type": "execute_result"
    }
   ],
   "source": [
    "sem2016 = pd.read_csv('data/semeval2016.tsv', sep='\\t', names=['text_id', 'target', 'sentiment', 'text'])\n",
    "sem2016.head()"
   ]
  },
  {
   "cell_type": "code",
   "execution_count": 3,
   "id": "1144bb76",
   "metadata": {},
   "outputs": [],
   "source": [
    "def scale_sent(x):\n",
    "    if x == -2:\n",
    "        return -1\n",
    "    if x == 2:\n",
    "        return 1\n",
    "    return x"
   ]
  },
  {
   "cell_type": "code",
   "execution_count": 4,
   "id": "7e925e33",
   "metadata": {},
   "outputs": [],
   "source": [
    "sem2016.sentiment = sem2016.sentiment.apply(scale_sent)"
   ]
  },
  {
   "cell_type": "code",
   "execution_count": 6,
   "id": "dfb79592",
   "metadata": {},
   "outputs": [
    {
     "data": {
      "text/plain": [
       " 1    11302\n",
       " 0    11184\n",
       "-1     3000\n",
       "Name: sentiment, dtype: int64"
      ]
     },
     "execution_count": 6,
     "metadata": {},
     "output_type": "execute_result"
    }
   ],
   "source": [
    "sem2016.sentiment.value_counts()"
   ]
  },
  {
   "cell_type": "code",
   "execution_count": 7,
   "id": "9737190a",
   "metadata": {},
   "outputs": [
    {
     "data": {
      "text/html": [
       "<div>\n",
       "<style scoped>\n",
       "    .dataframe tbody tr th:only-of-type {\n",
       "        vertical-align: middle;\n",
       "    }\n",
       "\n",
       "    .dataframe tbody tr th {\n",
       "        vertical-align: top;\n",
       "    }\n",
       "\n",
       "    .dataframe thead th {\n",
       "        text-align: right;\n",
       "    }\n",
       "</style>\n",
       "<table border=\"1\" class=\"dataframe\">\n",
       "  <thead>\n",
       "    <tr style=\"text-align: right;\">\n",
       "      <th></th>\n",
       "      <th>text_id</th>\n",
       "      <th>target</th>\n",
       "      <th>sentiment</th>\n",
       "      <th>text</th>\n",
       "    </tr>\n",
       "  </thead>\n",
       "  <tbody>\n",
       "    <tr>\n",
       "      <th>0</th>\n",
       "      <td>801989080477154944</td>\n",
       "      <td>#ArianaGrande</td>\n",
       "      <td>0</td>\n",
       "      <td>#ArianaGrande Ari By Ariana Grande 80% Full ht...</td>\n",
       "    </tr>\n",
       "    <tr>\n",
       "      <th>1</th>\n",
       "      <td>801989272341453952</td>\n",
       "      <td>#ArianaGrande</td>\n",
       "      <td>1</td>\n",
       "      <td>Ariana Grande KIIS FM Yours Truly CD listening...</td>\n",
       "    </tr>\n",
       "    <tr>\n",
       "      <th>2</th>\n",
       "      <td>801990978424962944</td>\n",
       "      <td>#ArianaGrande</td>\n",
       "      <td>1</td>\n",
       "      <td>Ariana Grande White House Easter Egg Roll in W...</td>\n",
       "    </tr>\n",
       "    <tr>\n",
       "      <th>3</th>\n",
       "      <td>801996232553963008</td>\n",
       "      <td>#ArianaGrande</td>\n",
       "      <td>1</td>\n",
       "      <td>#CD #Musics Ariana Grande Sweet Like Candy 3.4...</td>\n",
       "    </tr>\n",
       "    <tr>\n",
       "      <th>4</th>\n",
       "      <td>801998343442407040</td>\n",
       "      <td>#ArianaGrande</td>\n",
       "      <td>1</td>\n",
       "      <td>SIDE TO SIDE 😘 @arianagrande #sidetoside #aria...</td>\n",
       "    </tr>\n",
       "  </tbody>\n",
       "</table>\n",
       "</div>"
      ],
      "text/plain": [
       "              text_id         target  sentiment  \\\n",
       "0  801989080477154944  #ArianaGrande          0   \n",
       "1  801989272341453952  #ArianaGrande          1   \n",
       "2  801990978424962944  #ArianaGrande          1   \n",
       "3  801996232553963008  #ArianaGrande          1   \n",
       "4  801998343442407040  #ArianaGrande          1   \n",
       "\n",
       "                                                text  \n",
       "0  #ArianaGrande Ari By Ariana Grande 80% Full ht...  \n",
       "1  Ariana Grande KIIS FM Yours Truly CD listening...  \n",
       "2  Ariana Grande White House Easter Egg Roll in W...  \n",
       "3  #CD #Musics Ariana Grande Sweet Like Candy 3.4...  \n",
       "4  SIDE TO SIDE 😘 @arianagrande #sidetoside #aria...  "
      ]
     },
     "execution_count": 7,
     "metadata": {},
     "output_type": "execute_result"
    }
   ],
   "source": [
    "sem2017 = pd.read_csv('data/SemEval2017-task4-test.subtask-CE.english.txt', sep='\\t', names=['text_id', 'target', 'sentiment', 'text'])\n",
    "sem2017.head()"
   ]
  },
  {
   "cell_type": "code",
   "execution_count": 8,
   "id": "3f2cd181",
   "metadata": {},
   "outputs": [],
   "source": [
    "sem2017.sentiment = sem2017.sentiment.apply(scale_sent)"
   ]
  },
  {
   "cell_type": "code",
   "execution_count": 9,
   "id": "5bd2e179",
   "metadata": {},
   "outputs": [
    {
     "data": {
      "text/plain": [
       " 0    5988\n",
       "-1    3583\n",
       " 1    2439\n",
       "Name: sentiment, dtype: int64"
      ]
     },
     "execution_count": 9,
     "metadata": {},
     "output_type": "execute_result"
    }
   ],
   "source": [
    "sem2017.sentiment.value_counts()"
   ]
  },
  {
   "cell_type": "code",
   "execution_count": 10,
   "id": "75bf1f25",
   "metadata": {},
   "outputs": [
    {
     "data": {
      "text/html": [
       "<div>\n",
       "<style scoped>\n",
       "    .dataframe tbody tr th:only-of-type {\n",
       "        vertical-align: middle;\n",
       "    }\n",
       "\n",
       "    .dataframe tbody tr th {\n",
       "        vertical-align: top;\n",
       "    }\n",
       "\n",
       "    .dataframe thead th {\n",
       "        text-align: right;\n",
       "    }\n",
       "</style>\n",
       "<table border=\"1\" class=\"dataframe\">\n",
       "  <thead>\n",
       "    <tr style=\"text-align: right;\">\n",
       "      <th></th>\n",
       "      <th>textID</th>\n",
       "      <th>text</th>\n",
       "      <th>sentiment</th>\n",
       "    </tr>\n",
       "  </thead>\n",
       "  <tbody>\n",
       "    <tr>\n",
       "      <th>0</th>\n",
       "      <td>f87dea47db</td>\n",
       "      <td>Last session of the day  http://twitpic.com/67ezh</td>\n",
       "      <td>neutral</td>\n",
       "    </tr>\n",
       "    <tr>\n",
       "      <th>1</th>\n",
       "      <td>96d74cb729</td>\n",
       "      <td>Shanghai is also really exciting (precisely -...</td>\n",
       "      <td>positive</td>\n",
       "    </tr>\n",
       "    <tr>\n",
       "      <th>2</th>\n",
       "      <td>eee518ae67</td>\n",
       "      <td>Recession hit Veronique Branquinho, she has to...</td>\n",
       "      <td>negative</td>\n",
       "    </tr>\n",
       "    <tr>\n",
       "      <th>3</th>\n",
       "      <td>01082688c6</td>\n",
       "      <td>happy bday!</td>\n",
       "      <td>positive</td>\n",
       "    </tr>\n",
       "    <tr>\n",
       "      <th>4</th>\n",
       "      <td>33987a8ee5</td>\n",
       "      <td>http://twitpic.com/4w75p - I like it!!</td>\n",
       "      <td>positive</td>\n",
       "    </tr>\n",
       "  </tbody>\n",
       "</table>\n",
       "</div>"
      ],
      "text/plain": [
       "       textID                                               text sentiment\n",
       "0  f87dea47db  Last session of the day  http://twitpic.com/67ezh   neutral\n",
       "1  96d74cb729   Shanghai is also really exciting (precisely -...  positive\n",
       "2  eee518ae67  Recession hit Veronique Branquinho, she has to...  negative\n",
       "3  01082688c6                                        happy bday!  positive\n",
       "4  33987a8ee5             http://twitpic.com/4w75p - I like it!!  positive"
      ]
     },
     "execution_count": 10,
     "metadata": {},
     "output_type": "execute_result"
    }
   ],
   "source": [
    "twit = pd.read_csv('data/test.csv')\n",
    "twit.head()"
   ]
  },
  {
   "cell_type": "code",
   "execution_count": 15,
   "id": "133108a5",
   "metadata": {},
   "outputs": [
    {
     "data": {
      "text/html": [
       "<div>\n",
       "<style scoped>\n",
       "    .dataframe tbody tr th:only-of-type {\n",
       "        vertical-align: middle;\n",
       "    }\n",
       "\n",
       "    .dataframe tbody tr th {\n",
       "        vertical-align: top;\n",
       "    }\n",
       "\n",
       "    .dataframe thead th {\n",
       "        text-align: right;\n",
       "    }\n",
       "</style>\n",
       "<table border=\"1\" class=\"dataframe\">\n",
       "  <thead>\n",
       "    <tr style=\"text-align: right;\">\n",
       "      <th></th>\n",
       "      <th>textID</th>\n",
       "      <th>text</th>\n",
       "      <th>sentiment</th>\n",
       "    </tr>\n",
       "  </thead>\n",
       "  <tbody>\n",
       "    <tr>\n",
       "      <th>0</th>\n",
       "      <td>f87dea47db</td>\n",
       "      <td>Last session of the day  http://twitpic.com/67ezh</td>\n",
       "      <td>0</td>\n",
       "    </tr>\n",
       "    <tr>\n",
       "      <th>1</th>\n",
       "      <td>96d74cb729</td>\n",
       "      <td>Shanghai is also really exciting (precisely -...</td>\n",
       "      <td>1</td>\n",
       "    </tr>\n",
       "    <tr>\n",
       "      <th>2</th>\n",
       "      <td>eee518ae67</td>\n",
       "      <td>Recession hit Veronique Branquinho, she has to...</td>\n",
       "      <td>-1</td>\n",
       "    </tr>\n",
       "    <tr>\n",
       "      <th>3</th>\n",
       "      <td>01082688c6</td>\n",
       "      <td>happy bday!</td>\n",
       "      <td>1</td>\n",
       "    </tr>\n",
       "    <tr>\n",
       "      <th>4</th>\n",
       "      <td>33987a8ee5</td>\n",
       "      <td>http://twitpic.com/4w75p - I like it!!</td>\n",
       "      <td>1</td>\n",
       "    </tr>\n",
       "  </tbody>\n",
       "</table>\n",
       "</div>"
      ],
      "text/plain": [
       "       textID                                               text  sentiment\n",
       "0  f87dea47db  Last session of the day  http://twitpic.com/67ezh          0\n",
       "1  96d74cb729   Shanghai is also really exciting (precisely -...          1\n",
       "2  eee518ae67  Recession hit Veronique Branquinho, she has to...         -1\n",
       "3  01082688c6                                        happy bday!          1\n",
       "4  33987a8ee5             http://twitpic.com/4w75p - I like it!!          1"
      ]
     },
     "execution_count": 15,
     "metadata": {},
     "output_type": "execute_result"
    }
   ],
   "source": [
    "sent_dict = {'positive': 1, 'neutral': 0, 'negative': -1}\n",
    "twit.sentiment = twit.sentiment.apply(lambda x: sent_dict[x])\n",
    "twit.head()"
   ]
  },
  {
   "cell_type": "code",
   "execution_count": 13,
   "id": "eee1a422",
   "metadata": {},
   "outputs": [
    {
     "data": {
      "text/plain": [
       "[3, 6]"
      ]
     },
     "execution_count": 13,
     "metadata": {},
     "output_type": "execute_result"
    }
   ],
   "source": [
    "[1,2,3,4,5,6][2::3]"
   ]
  },
  {
   "cell_type": "code",
   "execution_count": 16,
   "id": "d4b1ced1",
   "metadata": {},
   "outputs": [],
   "source": [
    "twit[['text', 'sentiment']].to_csv('data/test.tsv', sep='\\t', index=False)"
   ]
  },
  {
   "cell_type": "code",
   "execution_count": 19,
   "id": "12940770",
   "metadata": {},
   "outputs": [
    {
     "data": {
      "text/plain": [
       "[\"i agree about arafat . i mean , shit , they even gave one to $T$ ha . it should be called '' the worst president '' prize .\\n\",\n",
       " 'jimmy carter\\n',\n",
       " '-1\\n',\n",
       " 'musicmonday $T$ - lucky do you remember this song ? it ` s awesome . i love it .\\n',\n",
       " 'britney spears\\n',\n",
       " '1\\n']"
      ]
     },
     "execution_count": 19,
     "metadata": {},
     "output_type": "execute_result"
    }
   ],
   "source": [
    "with open('data/train.raw', encoding='utf8') as f:\n",
    "    lines = f.readlines()\n",
    "\n",
    "lines[:6]"
   ]
  },
  {
   "cell_type": "code",
   "execution_count": 20,
   "id": "90673963",
   "metadata": {},
   "outputs": [
    {
     "data": {
      "text/plain": [
       "([\"i agree about arafat . i mean , shit , they even gave one to $T$ ha . it should be called '' the worst president '' prize .\",\n",
       "  'musicmonday $T$ - lucky do you remember this song ? it ` s awesome . i love it .'],\n",
       " ['jimmy carter', 'britney spears'],\n",
       " [-1, 1])"
      ]
     },
     "execution_count": 20,
     "metadata": {},
     "output_type": "execute_result"
    }
   ],
   "source": [
    "texts = [x.strip() for x in lines[::3]]\n",
    "targets = [x.strip() for x in lines[1::3]]\n",
    "sentiments = [int(x.strip()) for x in lines[2::3]]\n",
    "\n",
    "texts[:2], targets[:2], sentiments[:2]"
   ]
  },
  {
   "cell_type": "code",
   "execution_count": 21,
   "id": "14097be4",
   "metadata": {},
   "outputs": [],
   "source": [
    "twit = pd.DataFrame({'target': targets, 'text': texts, 'sentiment': sentiments})"
   ]
  },
  {
   "cell_type": "code",
   "execution_count": 22,
   "id": "5c62b3d4",
   "metadata": {},
   "outputs": [
    {
     "data": {
      "text/html": [
       "<div>\n",
       "<style scoped>\n",
       "    .dataframe tbody tr th:only-of-type {\n",
       "        vertical-align: middle;\n",
       "    }\n",
       "\n",
       "    .dataframe tbody tr th {\n",
       "        vertical-align: top;\n",
       "    }\n",
       "\n",
       "    .dataframe thead th {\n",
       "        text-align: right;\n",
       "    }\n",
       "</style>\n",
       "<table border=\"1\" class=\"dataframe\">\n",
       "  <thead>\n",
       "    <tr style=\"text-align: right;\">\n",
       "      <th></th>\n",
       "      <th>target</th>\n",
       "      <th>text</th>\n",
       "      <th>sentiment</th>\n",
       "    </tr>\n",
       "  </thead>\n",
       "  <tbody>\n",
       "    <tr>\n",
       "      <th>0</th>\n",
       "      <td>jimmy carter</td>\n",
       "      <td>i agree about arafat . i mean , shit , they ev...</td>\n",
       "      <td>-1</td>\n",
       "    </tr>\n",
       "    <tr>\n",
       "      <th>1</th>\n",
       "      <td>britney spears</td>\n",
       "      <td>musicmonday $T$ - lucky do you remember this s...</td>\n",
       "      <td>1</td>\n",
       "    </tr>\n",
       "    <tr>\n",
       "      <th>2</th>\n",
       "      <td>hilary swank</td>\n",
       "      <td>wtf ? $T$ is coming to my school today , just ...</td>\n",
       "      <td>0</td>\n",
       "    </tr>\n",
       "    <tr>\n",
       "      <th>3</th>\n",
       "      <td>wii</td>\n",
       "      <td>my 3-year-old was amazed yesterday to find tha...</td>\n",
       "      <td>0</td>\n",
       "    </tr>\n",
       "    <tr>\n",
       "      <th>4</th>\n",
       "      <td>google</td>\n",
       "      <td>God damn . That Sony remote for $T$ is fucking...</td>\n",
       "      <td>-1</td>\n",
       "    </tr>\n",
       "    <tr>\n",
       "      <th>...</th>\n",
       "      <td>...</td>\n",
       "      <td>...</td>\n",
       "      <td>...</td>\n",
       "    </tr>\n",
       "    <tr>\n",
       "      <th>6243</th>\n",
       "      <td>britney spears</td>\n",
       "      <td>really ? that seems like more of a $T$ outfit ...</td>\n",
       "      <td>0</td>\n",
       "    </tr>\n",
       "    <tr>\n",
       "      <th>6244</th>\n",
       "      <td>wii</td>\n",
       "      <td>the biggest loser $T$ review</td>\n",
       "      <td>-1</td>\n",
       "    </tr>\n",
       "    <tr>\n",
       "      <th>6245</th>\n",
       "      <td>lady gaga</td>\n",
       "      <td>ok love game is on . . $T$ , my dear , you nee...</td>\n",
       "      <td>1</td>\n",
       "    </tr>\n",
       "    <tr>\n",
       "      <th>6246</th>\n",
       "      <td>nicolas cage</td>\n",
       "      <td>nic cage sues business manager for ' financial...</td>\n",
       "      <td>0</td>\n",
       "    </tr>\n",
       "    <tr>\n",
       "      <th>6247</th>\n",
       "      <td>lindsay lohan</td>\n",
       "      <td>the top 5 stars in need of help ... asap : abc...</td>\n",
       "      <td>0</td>\n",
       "    </tr>\n",
       "  </tbody>\n",
       "</table>\n",
       "<p>6248 rows × 3 columns</p>\n",
       "</div>"
      ],
      "text/plain": [
       "              target                                               text  \\\n",
       "0       jimmy carter  i agree about arafat . i mean , shit , they ev...   \n",
       "1     britney spears  musicmonday $T$ - lucky do you remember this s...   \n",
       "2       hilary swank  wtf ? $T$ is coming to my school today , just ...   \n",
       "3                wii  my 3-year-old was amazed yesterday to find tha...   \n",
       "4             google  God damn . That Sony remote for $T$ is fucking...   \n",
       "...              ...                                                ...   \n",
       "6243  britney spears  really ? that seems like more of a $T$ outfit ...   \n",
       "6244             wii                       the biggest loser $T$ review   \n",
       "6245       lady gaga  ok love game is on . . $T$ , my dear , you nee...   \n",
       "6246    nicolas cage  nic cage sues business manager for ' financial...   \n",
       "6247   lindsay lohan  the top 5 stars in need of help ... asap : abc...   \n",
       "\n",
       "      sentiment  \n",
       "0            -1  \n",
       "1             1  \n",
       "2             0  \n",
       "3             0  \n",
       "4            -1  \n",
       "...         ...  \n",
       "6243          0  \n",
       "6244         -1  \n",
       "6245          1  \n",
       "6246          0  \n",
       "6247          0  \n",
       "\n",
       "[6248 rows x 3 columns]"
      ]
     },
     "execution_count": 22,
     "metadata": {},
     "output_type": "execute_result"
    }
   ],
   "source": [
    "twit"
   ]
  },
  {
   "cell_type": "code",
   "execution_count": 24,
   "id": "92fd512d",
   "metadata": {},
   "outputs": [
    {
     "data": {
      "text/plain": [
       "array(['#ArianaGrande Ari By Ariana Grande 80% Full https://t.co/ylhCMETHHW #Singer #Actress https://t.co/lTrb1JQiEA',\n",
       "       'Ariana Grande KIIS FM Yours Truly CD listening party in Burbank https://t.co/ClQIcx8Z6V #ArianaGrande',\n",
       "       'Ariana Grande White House Easter Egg Roll in Washington https://t.co/jdjL9swWM8 #ArianaGrande',\n",
       "       '#CD #Musics Ariana Grande Sweet Like Candy 3.4 oz 100 ML Sealed In Box 100% Authenic New https://t.co/oFmp0bOvZy… https://t.co/WIHLch9KtK',\n",
       "       'SIDE TO SIDE 😘 @arianagrande #sidetoside #arianagrande #musically #comunidadgay #lgbt🌈  #LOTB… https://t.co/tEd8rftAxV'],\n",
       "      dtype=object)"
      ]
     },
     "execution_count": 24,
     "metadata": {},
     "output_type": "execute_result"
    }
   ],
   "source": [
    "sem2017.head().text.values"
   ]
  },
  {
   "cell_type": "code",
   "execution_count": 31,
   "id": "5a1dea9d",
   "metadata": {},
   "outputs": [],
   "source": [
    "def repl_t(row):\n",
    "    return row.text.replace('$T$', row.target)\n",
    "\n",
    "twit.text = twit.apply(repl_t, axis=1)"
   ]
  },
  {
   "cell_type": "code",
   "execution_count": 32,
   "id": "a8a4f09d",
   "metadata": {},
   "outputs": [
    {
     "data": {
      "text/html": [
       "<div>\n",
       "<style scoped>\n",
       "    .dataframe tbody tr th:only-of-type {\n",
       "        vertical-align: middle;\n",
       "    }\n",
       "\n",
       "    .dataframe tbody tr th {\n",
       "        vertical-align: top;\n",
       "    }\n",
       "\n",
       "    .dataframe thead th {\n",
       "        text-align: right;\n",
       "    }\n",
       "</style>\n",
       "<table border=\"1\" class=\"dataframe\">\n",
       "  <thead>\n",
       "    <tr style=\"text-align: right;\">\n",
       "      <th></th>\n",
       "      <th>target</th>\n",
       "      <th>text</th>\n",
       "      <th>sentiment</th>\n",
       "    </tr>\n",
       "  </thead>\n",
       "  <tbody>\n",
       "    <tr>\n",
       "      <th>0</th>\n",
       "      <td>jimmy carter</td>\n",
       "      <td>i agree about arafat . i mean , shit , they ev...</td>\n",
       "      <td>-1</td>\n",
       "    </tr>\n",
       "    <tr>\n",
       "      <th>1</th>\n",
       "      <td>britney spears</td>\n",
       "      <td>musicmonday britney spears - lucky do you reme...</td>\n",
       "      <td>1</td>\n",
       "    </tr>\n",
       "    <tr>\n",
       "      <th>2</th>\n",
       "      <td>hilary swank</td>\n",
       "      <td>wtf ? hilary swank is coming to my school toda...</td>\n",
       "      <td>0</td>\n",
       "    </tr>\n",
       "    <tr>\n",
       "      <th>3</th>\n",
       "      <td>wii</td>\n",
       "      <td>my 3-year-old was amazed yesterday to find tha...</td>\n",
       "      <td>0</td>\n",
       "    </tr>\n",
       "    <tr>\n",
       "      <th>4</th>\n",
       "      <td>google</td>\n",
       "      <td>God damn . That Sony remote for google is fuck...</td>\n",
       "      <td>-1</td>\n",
       "    </tr>\n",
       "    <tr>\n",
       "      <th>...</th>\n",
       "      <td>...</td>\n",
       "      <td>...</td>\n",
       "      <td>...</td>\n",
       "    </tr>\n",
       "    <tr>\n",
       "      <th>6243</th>\n",
       "      <td>britney spears</td>\n",
       "      <td>really ? that seems like more of a britney spe...</td>\n",
       "      <td>0</td>\n",
       "    </tr>\n",
       "    <tr>\n",
       "      <th>6244</th>\n",
       "      <td>wii</td>\n",
       "      <td>the biggest loser wii review</td>\n",
       "      <td>-1</td>\n",
       "    </tr>\n",
       "    <tr>\n",
       "      <th>6245</th>\n",
       "      <td>lady gaga</td>\n",
       "      <td>ok love game is on . . lady gaga , my dear , y...</td>\n",
       "      <td>1</td>\n",
       "    </tr>\n",
       "    <tr>\n",
       "      <th>6246</th>\n",
       "      <td>nicolas cage</td>\n",
       "      <td>nic cage sues business manager for ' financial...</td>\n",
       "      <td>0</td>\n",
       "    </tr>\n",
       "    <tr>\n",
       "      <th>6247</th>\n",
       "      <td>lindsay lohan</td>\n",
       "      <td>the top 5 stars in need of help ... asap : abc...</td>\n",
       "      <td>0</td>\n",
       "    </tr>\n",
       "  </tbody>\n",
       "</table>\n",
       "<p>6248 rows × 3 columns</p>\n",
       "</div>"
      ],
      "text/plain": [
       "              target                                               text  \\\n",
       "0       jimmy carter  i agree about arafat . i mean , shit , they ev...   \n",
       "1     britney spears  musicmonday britney spears - lucky do you reme...   \n",
       "2       hilary swank  wtf ? hilary swank is coming to my school toda...   \n",
       "3                wii  my 3-year-old was amazed yesterday to find tha...   \n",
       "4             google  God damn . That Sony remote for google is fuck...   \n",
       "...              ...                                                ...   \n",
       "6243  britney spears  really ? that seems like more of a britney spe...   \n",
       "6244             wii                       the biggest loser wii review   \n",
       "6245       lady gaga  ok love game is on . . lady gaga , my dear , y...   \n",
       "6246    nicolas cage  nic cage sues business manager for ' financial...   \n",
       "6247   lindsay lohan  the top 5 stars in need of help ... asap : abc...   \n",
       "\n",
       "      sentiment  \n",
       "0            -1  \n",
       "1             1  \n",
       "2             0  \n",
       "3             0  \n",
       "4            -1  \n",
       "...         ...  \n",
       "6243          0  \n",
       "6244         -1  \n",
       "6245          1  \n",
       "6246          0  \n",
       "6247          0  \n",
       "\n",
       "[6248 rows x 3 columns]"
      ]
     },
     "execution_count": 32,
     "metadata": {},
     "output_type": "execute_result"
    }
   ],
   "source": [
    "twit"
   ]
  },
  {
   "cell_type": "code",
   "execution_count": 27,
   "id": "ce708a98",
   "metadata": {},
   "outputs": [
    {
     "data": {
      "text/plain": [
       "array(['Trump is building a wall on the Mexican border so they can stop herrion come in to America while there government is the biggest customers',\n",
       "       '@lasinferencias & the WALL Trump wants to build? I researched. It would take $45+ billion to build his 1900 mile wall on Mexican border....',\n",
       "       'President Elect? More like President Erect! A wall! On the Mexican American border!',\n",
       "       'Ok, I know a lot of you think a wall on the Mexican border is insane, but hear me out... What if instead of Mexico it was California?😂😂😂😂',\n",
       "       \"The Great Mexican Wall Deception: Trump's America Already Exists on the Border @alternet https://t.co/6vjgAftd2C\",\n",
       "       \"No need to build a wall. Just have Rosie O'Donnell lay down on the Mexican/American border. @realDonaldTrump\",\n",
       "       \"@BadAstronomer Except it doesn't work, given the porous limestone.  Better suggestion = solar panel wall on Mexican side of the border.\",\n",
       "       'Easier way to build the wall, invite the Indian cricketer Rahul Dravid to build a home on the Mexican border#Trump #Dravid  #wall #thewall',\n",
       "       \"Donald, take it easy my friend, but I can't wait to see u start building that thick high wall on the Mexican border to seal ur legacy\",\n",
       "       \"It's more difficult to move to Mexico as the Clintons built a bloody great fence all along the Border… https://t.co/LU1AGbIoSw\",\n",
       "       \"There will be no wall on the border. Check this out & u'll see why:) @realDonaldTrump Ur so fucking stupid trump! https://t.co/0Jw3hUBpNt\",\n",
       "       'Walls work.  A wall of geothermal plants on the Mexican border.  BOOM. Mother Nature pays for it. #TrumpNarratesPlanetEarth',\n",
       "       'We could do a WALL of solar panels on the border> BOOM> Mexican Sun God pays for it.  #TrumpNarratesPlanetEarth',\n",
       "       'The New Yorker, Nov 16, 2015:  \"The Hispanics love me,\" despite that he proposes building a wall on the Mexican border....#DonaldTrumpQuotes',\n",
       "       'Kinda funny that Donald Trump is now on the hook for a big beautiful wall along the Mexican border????',\n",
       "       '-Expect no real immigration reform, no wall on the Mexican border, no repeal of the sick joke known as… https://t.co/BCCiO2K2PP',\n",
       "       'An anti-immigration adviser to Trump says he may start construction of a wall on the Mexican border without a congressional approval.',\n",
       "       'Their building a wall...... not on the Mexican border.......on the seafront Strandhill........ they only thing we... https://t.co/DE0WVwrb3u',\n",
       "       \"2 weeks ago: I'm going to build a YUUUGE wall on the Mexican border, a beautiful wall, YUUUGE Now: Well, maybe a couple of fences\",\n",
       "       'Doer believes that @realDonaldTrump WILL build a wall at the Mexican border.  Was very clear on that promise. @AMTA_ca'],\n",
       "      dtype=object)"
      ]
     },
     "execution_count": 27,
     "metadata": {},
     "output_type": "execute_result"
    }
   ],
   "source": [
    "sem2017[sem2017.target=='wall on the mexican border'].text.values[:20]"
   ]
  },
  {
   "cell_type": "code",
   "execution_count": 45,
   "id": "770e8dd3",
   "metadata": {},
   "outputs": [
    {
     "data": {
      "text/html": [
       "<div>\n",
       "<style scoped>\n",
       "    .dataframe tbody tr th:only-of-type {\n",
       "        vertical-align: middle;\n",
       "    }\n",
       "\n",
       "    .dataframe tbody tr th {\n",
       "        vertical-align: top;\n",
       "    }\n",
       "\n",
       "    .dataframe thead th {\n",
       "        text-align: right;\n",
       "    }\n",
       "</style>\n",
       "<table border=\"1\" class=\"dataframe\">\n",
       "  <thead>\n",
       "    <tr style=\"text-align: right;\">\n",
       "      <th></th>\n",
       "      <th>target</th>\n",
       "      <th>text</th>\n",
       "      <th>sentiment</th>\n",
       "    </tr>\n",
       "  </thead>\n",
       "  <tbody>\n",
       "    <tr>\n",
       "      <th>0</th>\n",
       "      <td>kindle2</td>\n",
       "      <td>@stellargirl I loooooooovvvvvveee my Kindle2. ...</td>\n",
       "      <td>4</td>\n",
       "    </tr>\n",
       "    <tr>\n",
       "      <th>1</th>\n",
       "      <td>kindle2</td>\n",
       "      <td>Reading my kindle2...  Love it... Lee childs i...</td>\n",
       "      <td>4</td>\n",
       "    </tr>\n",
       "    <tr>\n",
       "      <th>2</th>\n",
       "      <td>kindle2</td>\n",
       "      <td>Ok, first assesment of the #kindle2 ...it fuck...</td>\n",
       "      <td>4</td>\n",
       "    </tr>\n",
       "    <tr>\n",
       "      <th>3</th>\n",
       "      <td>kindle2</td>\n",
       "      <td>@kenburbary You'll love your Kindle2. I've had...</td>\n",
       "      <td>4</td>\n",
       "    </tr>\n",
       "    <tr>\n",
       "      <th>4</th>\n",
       "      <td>kindle2</td>\n",
       "      <td>@mikefish  Fair enough. But i have the Kindle2...</td>\n",
       "      <td>4</td>\n",
       "    </tr>\n",
       "  </tbody>\n",
       "</table>\n",
       "</div>"
      ],
      "text/plain": [
       "    target                                               text  sentiment\n",
       "0  kindle2  @stellargirl I loooooooovvvvvveee my Kindle2. ...          4\n",
       "1  kindle2  Reading my kindle2...  Love it... Lee childs i...          4\n",
       "2  kindle2  Ok, first assesment of the #kindle2 ...it fuck...          4\n",
       "3  kindle2  @kenburbary You'll love your Kindle2. I've had...          4\n",
       "4  kindle2  @mikefish  Fair enough. But i have the Kindle2...          4"
      ]
     },
     "execution_count": 45,
     "metadata": {},
     "output_type": "execute_result"
    }
   ],
   "source": [
    "tm = pd.read_csv('data/testdata.manual.2009.06.14.csv', names=['sentiment', 'text_id', 'date', 'target', 'user', 'text'])\n",
    "tm = tm[['target', 'text', 'sentiment']]\n",
    "tm.head()"
   ]
  },
  {
   "cell_type": "code",
   "execution_count": 46,
   "id": "d8f1c2e7",
   "metadata": {},
   "outputs": [
    {
     "data": {
      "text/html": [
       "<div>\n",
       "<style scoped>\n",
       "    .dataframe tbody tr th:only-of-type {\n",
       "        vertical-align: middle;\n",
       "    }\n",
       "\n",
       "    .dataframe tbody tr th {\n",
       "        vertical-align: top;\n",
       "    }\n",
       "\n",
       "    .dataframe thead th {\n",
       "        text-align: right;\n",
       "    }\n",
       "</style>\n",
       "<table border=\"1\" class=\"dataframe\">\n",
       "  <thead>\n",
       "    <tr style=\"text-align: right;\">\n",
       "      <th></th>\n",
       "      <th>target</th>\n",
       "      <th>text</th>\n",
       "      <th>sentiment</th>\n",
       "    </tr>\n",
       "  </thead>\n",
       "  <tbody>\n",
       "    <tr>\n",
       "      <th>0</th>\n",
       "      <td>kindle2</td>\n",
       "      <td>@stellargirl I loooooooovvvvvveee my Kindle2. ...</td>\n",
       "      <td>1</td>\n",
       "    </tr>\n",
       "    <tr>\n",
       "      <th>1</th>\n",
       "      <td>kindle2</td>\n",
       "      <td>Reading my kindle2...  Love it... Lee childs i...</td>\n",
       "      <td>1</td>\n",
       "    </tr>\n",
       "    <tr>\n",
       "      <th>2</th>\n",
       "      <td>kindle2</td>\n",
       "      <td>Ok, first assesment of the #kindle2 ...it fuck...</td>\n",
       "      <td>1</td>\n",
       "    </tr>\n",
       "    <tr>\n",
       "      <th>3</th>\n",
       "      <td>kindle2</td>\n",
       "      <td>@kenburbary You'll love your Kindle2. I've had...</td>\n",
       "      <td>1</td>\n",
       "    </tr>\n",
       "    <tr>\n",
       "      <th>4</th>\n",
       "      <td>kindle2</td>\n",
       "      <td>@mikefish  Fair enough. But i have the Kindle2...</td>\n",
       "      <td>1</td>\n",
       "    </tr>\n",
       "  </tbody>\n",
       "</table>\n",
       "</div>"
      ],
      "text/plain": [
       "    target                                               text  sentiment\n",
       "0  kindle2  @stellargirl I loooooooovvvvvveee my Kindle2. ...          1\n",
       "1  kindle2  Reading my kindle2...  Love it... Lee childs i...          1\n",
       "2  kindle2  Ok, first assesment of the #kindle2 ...it fuck...          1\n",
       "3  kindle2  @kenburbary You'll love your Kindle2. I've had...          1\n",
       "4  kindle2  @mikefish  Fair enough. But i have the Kindle2...          1"
      ]
     },
     "execution_count": 46,
     "metadata": {},
     "output_type": "execute_result"
    }
   ],
   "source": [
    "def tm_sent(x):\n",
    "    if x < 2:\n",
    "        return -1\n",
    "    if x > 2:\n",
    "        return 1\n",
    "    return 0\n",
    "\n",
    "tm.sentiment = tm.sentiment.apply(tm_sent)\n",
    "tm.head()"
   ]
  },
  {
   "cell_type": "code",
   "execution_count": 47,
   "id": "e2972c87",
   "metadata": {},
   "outputs": [
    {
     "data": {
      "text/plain": [
       " 1    182\n",
       "-1    177\n",
       " 0    139\n",
       "Name: sentiment, dtype: int64"
      ]
     },
     "execution_count": 47,
     "metadata": {},
     "output_type": "execute_result"
    }
   ],
   "source": [
    "tm.sentiment.value_counts()"
   ]
  },
  {
   "cell_type": "code",
   "execution_count": 34,
   "id": "b5cd1316",
   "metadata": {},
   "outputs": [],
   "source": [
    "sem2017 = sem2017[['target', 'text', 'sentiment']]\n",
    "sem2016 = sem2016[['target', 'text', 'sentiment']]"
   ]
  },
  {
   "cell_type": "code",
   "execution_count": 48,
   "id": "d89a2fb5",
   "metadata": {},
   "outputs": [
    {
     "data": {
      "text/plain": [
       "(44242, 3)"
      ]
     },
     "execution_count": 48,
     "metadata": {},
     "output_type": "execute_result"
    }
   ],
   "source": [
    "twit_train = pd.concat([twit, sem2016, sem2017, tm])\n",
    "twit_train.shape"
   ]
  },
  {
   "cell_type": "code",
   "execution_count": 49,
   "id": "e77a94e8",
   "metadata": {},
   "outputs": [
    {
     "data": {
      "text/plain": [
       " 0    20438\n",
       " 1    15484\n",
       "-1     8320\n",
       "Name: sentiment, dtype: int64"
      ]
     },
     "execution_count": 49,
     "metadata": {},
     "output_type": "execute_result"
    }
   ],
   "source": [
    "twit_train.sentiment.value_counts()"
   ]
  },
  {
   "cell_type": "code",
   "execution_count": 51,
   "id": "43a52df7",
   "metadata": {},
   "outputs": [],
   "source": [
    "twit_train.to_csv('data/twit_train.tsv', index=False, sep='\\t')"
   ]
  },
  {
   "cell_type": "code",
   "execution_count": 2,
   "id": "6215957d",
   "metadata": {},
   "outputs": [],
   "source": [
    "from xmltodict import parse"
   ]
  },
  {
   "cell_type": "code",
   "execution_count": 3,
   "id": "93fd6e80",
   "metadata": {},
   "outputs": [],
   "source": [
    "with open('data/Laptop_Train_v2.xml') as f:\n",
    "    lap_dict = parse(f.read())"
   ]
  },
  {
   "cell_type": "code",
   "execution_count": 4,
   "id": "c187737a",
   "metadata": {},
   "outputs": [
    {
     "data": {
      "text/plain": [
       "'I charge it at night and skip taking the cord with me because of the good battery life.'"
      ]
     },
     "execution_count": 4,
     "metadata": {},
     "output_type": "execute_result"
    }
   ],
   "source": [
    "lap_dict['sentences']['sentence'][0]['text']"
   ]
  },
  {
   "cell_type": "code",
   "execution_count": 19,
   "id": "cd9b1857",
   "metadata": {},
   "outputs": [
    {
     "data": {
      "text/plain": [
       "[('cord', 'neutral'), ('battery life', 'positive')]"
      ]
     },
     "execution_count": 19,
     "metadata": {},
     "output_type": "execute_result"
    }
   ],
   "source": [
    "[(x['@term'], x['@polarity']) for x in lap_dict['sentences']['sentence'][0]['aspectTerms']['aspectTerm']]"
   ]
  },
  {
   "cell_type": "code",
   "execution_count": 29,
   "id": "fa19000d",
   "metadata": {},
   "outputs": [],
   "source": [
    "def load_xml(path, texts, targets, sentiments):\n",
    "    with open(path, encoding='utf8') as f:\n",
    "        lap_dict = parse(f.read())\n",
    "    \n",
    "    for ex in lap_dict['sentences']['sentence']:\n",
    "        if 'aspectTerms' in ex:\n",
    "            for aspect in ex['aspectTerms']['aspectTerm']:\n",
    "                if not isinstance(aspect, str): \n",
    "                    texts.append(ex['text'])\n",
    "                    targets.append(aspect['@term'])\n",
    "                    sentiments.append(aspect['@polarity'])"
   ]
  },
  {
   "cell_type": "code",
   "execution_count": 30,
   "id": "113fe146",
   "metadata": {},
   "outputs": [],
   "source": [
    "texts = []\n",
    "targets = []\n",
    "sentiments = []\n",
    "load_xml('data/Laptop_Train_v2.xml', texts, targets, sentiments)"
   ]
  },
  {
   "cell_type": "code",
   "execution_count": 32,
   "id": "1afe247a",
   "metadata": {},
   "outputs": [
    {
     "data": {
      "text/plain": [
       "(['I charge it at night and skip taking the cord with me because of the good battery life.',\n",
       "  'I charge it at night and skip taking the cord with me because of the good battery life.',\n",
       "  'The tech guy then said the service center does not do 1-to-1 exchange and I have to direct my concern to the \"sales\" team, which is the retail shop which I bought my netbook from.',\n",
       "  'The tech guy then said the service center does not do 1-to-1 exchange and I have to direct my concern to the \"sales\" team, which is the retail shop which I bought my netbook from.',\n",
       "  'The tech guy then said the service center does not do 1-to-1 exchange and I have to direct my concern to the \"sales\" team, which is the retail shop which I bought my netbook from.'],\n",
       " ['cord', 'battery life', 'service center', '\"sales\" team', 'tech guy'],\n",
       " ['neutral', 'positive', 'negative', 'negative', 'neutral'])"
      ]
     },
     "execution_count": 32,
     "metadata": {},
     "output_type": "execute_result"
    }
   ],
   "source": [
    "texts[:5], targets[:5], sentiments[:5]"
   ]
  },
  {
   "cell_type": "code",
   "execution_count": 33,
   "id": "03838d7f",
   "metadata": {},
   "outputs": [],
   "source": [
    "load_xml('data/Restaurants_Train_v2.xml', texts, targets, sentiments)"
   ]
  },
  {
   "cell_type": "code",
   "execution_count": 34,
   "id": "cd6e2767",
   "metadata": {},
   "outputs": [
    {
     "data": {
      "text/plain": [
       "(4098, 4098, 4098)"
      ]
     },
     "execution_count": 34,
     "metadata": {},
     "output_type": "execute_result"
    }
   ],
   "source": [
    "len(texts), len(targets), len(sentiments)"
   ]
  },
  {
   "cell_type": "code",
   "execution_count": 35,
   "id": "073503a8",
   "metadata": {},
   "outputs": [],
   "source": [
    "rest_lap = pd.DataFrame({'target': targets, 'text': texts, 'sentiment': sentiments})"
   ]
  },
  {
   "cell_type": "code",
   "execution_count": 38,
   "id": "7f590309",
   "metadata": {},
   "outputs": [
    {
     "name": "stderr",
     "output_type": "stream",
     "text": [
      "C:\\Users\\wojtek\\anaconda3\\lib\\site-packages\\pandas\\core\\generic.py:5516: SettingWithCopyWarning: \n",
      "A value is trying to be set on a copy of a slice from a DataFrame.\n",
      "Try using .loc[row_indexer,col_indexer] = value instead\n",
      "\n",
      "See the caveats in the documentation: https://pandas.pydata.org/pandas-docs/stable/user_guide/indexing.html#returning-a-view-versus-a-copy\n",
      "  self[name] = value\n"
     ]
    }
   ],
   "source": [
    "sent_dict = {'positive': 1, 'neutral': 0, 'negative': -1}\n",
    "rest_lap = rest_lap[rest_lap.sentiment != 'conflict']\n",
    "rest_lap.sentiment = rest_lap.sentiment.apply(lambda x: sent_dict[x])"
   ]
  },
  {
   "cell_type": "code",
   "execution_count": 39,
   "id": "1ae20204",
   "metadata": {},
   "outputs": [
    {
     "data": {
      "text/html": [
       "<div>\n",
       "<style scoped>\n",
       "    .dataframe tbody tr th:only-of-type {\n",
       "        vertical-align: middle;\n",
       "    }\n",
       "\n",
       "    .dataframe tbody tr th {\n",
       "        vertical-align: top;\n",
       "    }\n",
       "\n",
       "    .dataframe thead th {\n",
       "        text-align: right;\n",
       "    }\n",
       "</style>\n",
       "<table border=\"1\" class=\"dataframe\">\n",
       "  <thead>\n",
       "    <tr style=\"text-align: right;\">\n",
       "      <th></th>\n",
       "      <th>target</th>\n",
       "      <th>text</th>\n",
       "      <th>sentiment</th>\n",
       "    </tr>\n",
       "  </thead>\n",
       "  <tbody>\n",
       "    <tr>\n",
       "      <th>0</th>\n",
       "      <td>cord</td>\n",
       "      <td>I charge it at night and skip taking the cord ...</td>\n",
       "      <td>0</td>\n",
       "    </tr>\n",
       "    <tr>\n",
       "      <th>1</th>\n",
       "      <td>battery life</td>\n",
       "      <td>I charge it at night and skip taking the cord ...</td>\n",
       "      <td>1</td>\n",
       "    </tr>\n",
       "    <tr>\n",
       "      <th>2</th>\n",
       "      <td>service center</td>\n",
       "      <td>The tech guy then said the service center does...</td>\n",
       "      <td>-1</td>\n",
       "    </tr>\n",
       "    <tr>\n",
       "      <th>3</th>\n",
       "      <td>\"sales\" team</td>\n",
       "      <td>The tech guy then said the service center does...</td>\n",
       "      <td>-1</td>\n",
       "    </tr>\n",
       "    <tr>\n",
       "      <th>4</th>\n",
       "      <td>tech guy</td>\n",
       "      <td>The tech guy then said the service center does...</td>\n",
       "      <td>0</td>\n",
       "    </tr>\n",
       "    <tr>\n",
       "      <th>...</th>\n",
       "      <td>...</td>\n",
       "      <td>...</td>\n",
       "      <td>...</td>\n",
       "    </tr>\n",
       "    <tr>\n",
       "      <th>4093</th>\n",
       "      <td>pot of boiling water</td>\n",
       "      <td>Each table has a pot of boiling water sunken i...</td>\n",
       "      <td>0</td>\n",
       "    </tr>\n",
       "    <tr>\n",
       "      <th>4094</th>\n",
       "      <td>meats</td>\n",
       "      <td>Each table has a pot of boiling water sunken i...</td>\n",
       "      <td>0</td>\n",
       "    </tr>\n",
       "    <tr>\n",
       "      <th>4095</th>\n",
       "      <td>vegetables</td>\n",
       "      <td>Each table has a pot of boiling water sunken i...</td>\n",
       "      <td>0</td>\n",
       "    </tr>\n",
       "    <tr>\n",
       "      <th>4096</th>\n",
       "      <td>rice</td>\n",
       "      <td>Each table has a pot of boiling water sunken i...</td>\n",
       "      <td>0</td>\n",
       "    </tr>\n",
       "    <tr>\n",
       "      <th>4097</th>\n",
       "      <td>glass noodles</td>\n",
       "      <td>Each table has a pot of boiling water sunken i...</td>\n",
       "      <td>0</td>\n",
       "    </tr>\n",
       "  </tbody>\n",
       "</table>\n",
       "<p>4026 rows × 3 columns</p>\n",
       "</div>"
      ],
      "text/plain": [
       "                    target                                               text  \\\n",
       "0                     cord  I charge it at night and skip taking the cord ...   \n",
       "1             battery life  I charge it at night and skip taking the cord ...   \n",
       "2           service center  The tech guy then said the service center does...   \n",
       "3             \"sales\" team  The tech guy then said the service center does...   \n",
       "4                 tech guy  The tech guy then said the service center does...   \n",
       "...                    ...                                                ...   \n",
       "4093  pot of boiling water  Each table has a pot of boiling water sunken i...   \n",
       "4094                 meats  Each table has a pot of boiling water sunken i...   \n",
       "4095            vegetables  Each table has a pot of boiling water sunken i...   \n",
       "4096                  rice  Each table has a pot of boiling water sunken i...   \n",
       "4097         glass noodles  Each table has a pot of boiling water sunken i...   \n",
       "\n",
       "      sentiment  \n",
       "0             0  \n",
       "1             1  \n",
       "2            -1  \n",
       "3            -1  \n",
       "4             0  \n",
       "...         ...  \n",
       "4093          0  \n",
       "4094          0  \n",
       "4095          0  \n",
       "4096          0  \n",
       "4097          0  \n",
       "\n",
       "[4026 rows x 3 columns]"
      ]
     },
     "execution_count": 39,
     "metadata": {},
     "output_type": "execute_result"
    }
   ],
   "source": [
    "rest_lap"
   ]
  },
  {
   "cell_type": "code",
   "execution_count": 41,
   "id": "561e9d79",
   "metadata": {},
   "outputs": [
    {
     "data": {
      "text/plain": [
       " 1    2206\n",
       "-1    1018\n",
       " 0     802\n",
       "Name: sentiment, dtype: int64"
      ]
     },
     "execution_count": 41,
     "metadata": {},
     "output_type": "execute_result"
    }
   ],
   "source": [
    "rest_lap.sentiment.value_counts()"
   ]
  },
  {
   "cell_type": "code",
   "execution_count": 42,
   "id": "8f8757c9",
   "metadata": {},
   "outputs": [],
   "source": [
    "rest_lap.to_csv('data/rest_lap.tsv', index=False, sep='\\t')"
   ]
  },
  {
   "cell_type": "code",
   "execution_count": 44,
   "id": "fede2dbe",
   "metadata": {},
   "outputs": [],
   "source": [
    "import json"
   ]
  },
  {
   "cell_type": "code",
   "execution_count": 59,
   "id": "b316f876",
   "metadata": {},
   "outputs": [],
   "source": [
    "targets = []\n",
    "texts = []\n",
    "sentiments = []"
   ]
  },
  {
   "cell_type": "code",
   "execution_count": 60,
   "id": "8482c7bc",
   "metadata": {},
   "outputs": [],
   "source": [
    "def load_jsonl(path):\n",
    "    with open(path) as f:\n",
    "        for l in f:\n",
    "            inst = json.loads(l)\n",
    "            if 'opinions' in inst:\n",
    "                for op in inst['opinions']:\n",
    "                    if op['aspect'] == 'general':\n",
    "                        targets.append(op['target_entity'])\n",
    "                        texts.append(inst['text'])\n",
    "                        sentiments.append(sent_dict[op['sentiment'].lower()])"
   ]
  },
  {
   "cell_type": "code",
   "execution_count": 61,
   "id": "224308ee",
   "metadata": {},
   "outputs": [],
   "source": [
    "load_jsonl('data/sentihood-train.jsonl')\n",
    "load_jsonl('data/sentihood-dev.jsonl')\n",
    "load_jsonl('data/sentihood-test.jsonl')"
   ]
  },
  {
   "cell_type": "code",
   "execution_count": 62,
   "id": "324f618c",
   "metadata": {},
   "outputs": [
    {
     "data": {
      "text/plain": [
       "(['  Best bet is around LOCATION2 and LOCATION1 area in the northwest corner really nice ',\n",
       "  '  Best bet is around LOCATION2 and LOCATION1 area in the northwest corner really nice ',\n",
       "  \"  Don't go looking at places like LOCATION1  now that IS a rough area you really wouldn't want to live in\",\n",
       "  \"  For gods sake don't move to LOCATION1 its horrible\",\n",
       "  '  I dont like LOCATION1 at all'],\n",
       " ['LOCATION1', 'LOCATION2', 'LOCATION1', 'LOCATION1', 'LOCATION1'],\n",
       " [1, 1, -1, -1, -1])"
      ]
     },
     "execution_count": 62,
     "metadata": {},
     "output_type": "execute_result"
    }
   ],
   "source": [
    "texts[:5], targets[:5], sentiments[:5]"
   ]
  },
  {
   "cell_type": "code",
   "execution_count": 63,
   "id": "de05d2a8",
   "metadata": {},
   "outputs": [
    {
     "data": {
      "text/plain": [
       "2056"
      ]
     },
     "execution_count": 63,
     "metadata": {},
     "output_type": "execute_result"
    }
   ],
   "source": [
    "len(texts)"
   ]
  },
  {
   "cell_type": "code",
   "execution_count": 64,
   "id": "9e502245",
   "metadata": {},
   "outputs": [],
   "source": [
    "hood = pd.DataFrame({'target': targets, 'text': texts, 'sentiment': sentiments})"
   ]
  },
  {
   "cell_type": "code",
   "execution_count": 65,
   "id": "23c8f2e7",
   "metadata": {},
   "outputs": [],
   "source": [
    "hood.to_csv('data/sentihood.tsv', index=False, sep='\\t')"
   ]
  },
  {
   "cell_type": "code",
   "execution_count": 2,
   "id": "116b4f6d",
   "metadata": {},
   "outputs": [
    {
     "data": {
      "text/html": [
       "<div>\n",
       "<style scoped>\n",
       "    .dataframe tbody tr th:only-of-type {\n",
       "        vertical-align: middle;\n",
       "    }\n",
       "\n",
       "    .dataframe tbody tr th {\n",
       "        vertical-align: top;\n",
       "    }\n",
       "\n",
       "    .dataframe thead th {\n",
       "        text-align: right;\n",
       "    }\n",
       "</style>\n",
       "<table border=\"1\" class=\"dataframe\">\n",
       "  <thead>\n",
       "    <tr style=\"text-align: right;\">\n",
       "      <th></th>\n",
       "      <th>target</th>\n",
       "      <th>text</th>\n",
       "      <th>sentiment</th>\n",
       "    </tr>\n",
       "  </thead>\n",
       "  <tbody>\n",
       "    <tr>\n",
       "      <th>0</th>\n",
       "      <td>LOCATION1</td>\n",
       "      <td>Best bet is around LOCATION2 and LOCATION1 a...</td>\n",
       "      <td>1</td>\n",
       "    </tr>\n",
       "    <tr>\n",
       "      <th>1</th>\n",
       "      <td>LOCATION2</td>\n",
       "      <td>Best bet is around LOCATION2 and LOCATION1 a...</td>\n",
       "      <td>1</td>\n",
       "    </tr>\n",
       "    <tr>\n",
       "      <th>2</th>\n",
       "      <td>LOCATION1</td>\n",
       "      <td>Don't go looking at places like LOCATION1  n...</td>\n",
       "      <td>-1</td>\n",
       "    </tr>\n",
       "    <tr>\n",
       "      <th>3</th>\n",
       "      <td>LOCATION1</td>\n",
       "      <td>For gods sake don't move to LOCATION1 its ho...</td>\n",
       "      <td>-1</td>\n",
       "    </tr>\n",
       "    <tr>\n",
       "      <th>4</th>\n",
       "      <td>LOCATION1</td>\n",
       "      <td>I dont like LOCATION1 at all</td>\n",
       "      <td>-1</td>\n",
       "    </tr>\n",
       "    <tr>\n",
       "      <th>...</th>\n",
       "      <td>...</td>\n",
       "      <td>...</td>\n",
       "      <td>...</td>\n",
       "    </tr>\n",
       "    <tr>\n",
       "      <th>2051</th>\n",
       "      <td>LOCATION2</td>\n",
       "      <td>the most decent places are  LOCATION2 and LOCA...</td>\n",
       "      <td>1</td>\n",
       "    </tr>\n",
       "    <tr>\n",
       "      <th>2052</th>\n",
       "      <td>LOCATION1</td>\n",
       "      <td>there are good places in LOCATION1, it is not ...</td>\n",
       "      <td>1</td>\n",
       "    </tr>\n",
       "    <tr>\n",
       "      <th>2053</th>\n",
       "      <td>LOCATION2</td>\n",
       "      <td>well, you could try anything in  LOCATION2 are...</td>\n",
       "      <td>1</td>\n",
       "    </tr>\n",
       "    <tr>\n",
       "      <th>2054</th>\n",
       "      <td>LOCATION1</td>\n",
       "      <td>you also have really nice areas like LOCATION2...</td>\n",
       "      <td>1</td>\n",
       "    </tr>\n",
       "    <tr>\n",
       "      <th>2055</th>\n",
       "      <td>LOCATION2</td>\n",
       "      <td>you also have really nice areas like LOCATION2...</td>\n",
       "      <td>1</td>\n",
       "    </tr>\n",
       "  </tbody>\n",
       "</table>\n",
       "<p>2056 rows × 3 columns</p>\n",
       "</div>"
      ],
      "text/plain": [
       "         target                                               text  sentiment\n",
       "0     LOCATION1    Best bet is around LOCATION2 and LOCATION1 a...          1\n",
       "1     LOCATION2    Best bet is around LOCATION2 and LOCATION1 a...          1\n",
       "2     LOCATION1    Don't go looking at places like LOCATION1  n...         -1\n",
       "3     LOCATION1    For gods sake don't move to LOCATION1 its ho...         -1\n",
       "4     LOCATION1                       I dont like LOCATION1 at all         -1\n",
       "...         ...                                                ...        ...\n",
       "2051  LOCATION2  the most decent places are  LOCATION2 and LOCA...          1\n",
       "2052  LOCATION1  there are good places in LOCATION1, it is not ...          1\n",
       "2053  LOCATION2  well, you could try anything in  LOCATION2 are...          1\n",
       "2054  LOCATION1  you also have really nice areas like LOCATION2...          1\n",
       "2055  LOCATION2  you also have really nice areas like LOCATION2...          1\n",
       "\n",
       "[2056 rows x 3 columns]"
      ]
     },
     "execution_count": 2,
     "metadata": {},
     "output_type": "execute_result"
    }
   ],
   "source": [
    "hood = pd.read_csv('data/sentihood.tsv', sep='\\t')\n",
    "hood"
   ]
  },
  {
   "cell_type": "code",
   "execution_count": 3,
   "id": "3381b74e",
   "metadata": {},
   "outputs": [
    {
     "data": {
      "text/html": [
       "<div>\n",
       "<style scoped>\n",
       "    .dataframe tbody tr th:only-of-type {\n",
       "        vertical-align: middle;\n",
       "    }\n",
       "\n",
       "    .dataframe tbody tr th {\n",
       "        vertical-align: top;\n",
       "    }\n",
       "\n",
       "    .dataframe thead th {\n",
       "        text-align: right;\n",
       "    }\n",
       "</style>\n",
       "<table border=\"1\" class=\"dataframe\">\n",
       "  <thead>\n",
       "    <tr style=\"text-align: right;\">\n",
       "      <th></th>\n",
       "      <th>target</th>\n",
       "      <th>text</th>\n",
       "      <th>sentiment</th>\n",
       "    </tr>\n",
       "  </thead>\n",
       "  <tbody>\n",
       "    <tr>\n",
       "      <th>0</th>\n",
       "      <td>jimmy carter</td>\n",
       "      <td>i agree about arafat . i mean , shit , they ev...</td>\n",
       "      <td>-1</td>\n",
       "    </tr>\n",
       "    <tr>\n",
       "      <th>1</th>\n",
       "      <td>britney spears</td>\n",
       "      <td>musicmonday britney spears - lucky do you reme...</td>\n",
       "      <td>1</td>\n",
       "    </tr>\n",
       "    <tr>\n",
       "      <th>2</th>\n",
       "      <td>hilary swank</td>\n",
       "      <td>wtf ? hilary swank is coming to my school toda...</td>\n",
       "      <td>0</td>\n",
       "    </tr>\n",
       "    <tr>\n",
       "      <th>3</th>\n",
       "      <td>wii</td>\n",
       "      <td>my 3-year-old was amazed yesterday to find tha...</td>\n",
       "      <td>0</td>\n",
       "    </tr>\n",
       "    <tr>\n",
       "      <th>4</th>\n",
       "      <td>google</td>\n",
       "      <td>God damn . That Sony remote for google is fuck...</td>\n",
       "      <td>-1</td>\n",
       "    </tr>\n",
       "    <tr>\n",
       "      <th>...</th>\n",
       "      <td>...</td>\n",
       "      <td>...</td>\n",
       "      <td>...</td>\n",
       "    </tr>\n",
       "    <tr>\n",
       "      <th>44237</th>\n",
       "      <td>latex</td>\n",
       "      <td>Ask Programming: LaTeX or InDesign?: submitted...</td>\n",
       "      <td>0</td>\n",
       "    </tr>\n",
       "    <tr>\n",
       "      <th>44238</th>\n",
       "      <td>latex</td>\n",
       "      <td>On that note, I hate Word. I hate Pages. I hat...</td>\n",
       "      <td>-1</td>\n",
       "    </tr>\n",
       "    <tr>\n",
       "      <th>44239</th>\n",
       "      <td>latex</td>\n",
       "      <td>Ahhh... back in a *real* text editing environm...</td>\n",
       "      <td>1</td>\n",
       "    </tr>\n",
       "    <tr>\n",
       "      <th>44240</th>\n",
       "      <td>iran</td>\n",
       "      <td>Trouble in Iran, I see. Hmm. Iran. Iran so far...</td>\n",
       "      <td>-1</td>\n",
       "    </tr>\n",
       "    <tr>\n",
       "      <th>44241</th>\n",
       "      <td>iran</td>\n",
       "      <td>Reading the tweets coming out of Iran... The w...</td>\n",
       "      <td>-1</td>\n",
       "    </tr>\n",
       "  </tbody>\n",
       "</table>\n",
       "<p>44242 rows × 3 columns</p>\n",
       "</div>"
      ],
      "text/plain": [
       "               target                                               text  \\\n",
       "0        jimmy carter  i agree about arafat . i mean , shit , they ev...   \n",
       "1      britney spears  musicmonday britney spears - lucky do you reme...   \n",
       "2        hilary swank  wtf ? hilary swank is coming to my school toda...   \n",
       "3                 wii  my 3-year-old was amazed yesterday to find tha...   \n",
       "4              google  God damn . That Sony remote for google is fuck...   \n",
       "...               ...                                                ...   \n",
       "44237           latex  Ask Programming: LaTeX or InDesign?: submitted...   \n",
       "44238           latex  On that note, I hate Word. I hate Pages. I hat...   \n",
       "44239           latex  Ahhh... back in a *real* text editing environm...   \n",
       "44240            iran  Trouble in Iran, I see. Hmm. Iran. Iran so far...   \n",
       "44241            iran  Reading the tweets coming out of Iran... The w...   \n",
       "\n",
       "       sentiment  \n",
       "0             -1  \n",
       "1              1  \n",
       "2              0  \n",
       "3              0  \n",
       "4             -1  \n",
       "...          ...  \n",
       "44237          0  \n",
       "44238         -1  \n",
       "44239          1  \n",
       "44240         -1  \n",
       "44241         -1  \n",
       "\n",
       "[44242 rows x 3 columns]"
      ]
     },
     "execution_count": 3,
     "metadata": {},
     "output_type": "execute_result"
    }
   ],
   "source": [
    "twit = pd.read_csv('data/twit_train.tsv', sep='\\t')\n",
    "twit"
   ]
  },
  {
   "cell_type": "code",
   "execution_count": 5,
   "id": "cfc5e08e",
   "metadata": {},
   "outputs": [
    {
     "data": {
      "text/plain": [
       "array(['jimmy carter', 'britney spears', 'hilary swank', 'wii', 'google',\n",
       "       'harry potter', 'hillary clinton', 'lady gaga', 'obama',\n",
       "       'justin timberlake', 'madonna', 'george bush', 'perez hilton',\n",
       "       'barack obama', 'iphone', 'nicki minaj', 'ipod', 'charlie sheen',\n",
       "       'maradona', 'anderson cooper', 'jt', 'google wave', 'psp',\n",
       "       'sarah palin', 'shaq', 'dave matthews', 'serena williams',\n",
       "       'russell brand', 'joe biden', 'justin bieber', 'lindsay lohan',\n",
       "       'bill gates', 'ryan seacrest', 'micheal jackson', 'xbox',\n",
       "       'katy perry', 'john legend', 'martha stewart', 'steve jobs',\n",
       "       'ellen degeneres', 'ipad', 'kim kardashian', 'mandy moore',\n",
       "       'al gore', 'lakers', 'taylor swift', 'john mccain', 'windows 7',\n",
       "       'nicolas cage', 'kindle', 'tiger woods', 'ms dhoni', 'alicia keys',\n",
       "       'miley cyrus', 'jimmy fallon', 'demi lovato', 'taylorswift',\n",
       "       'britney', 'selena gomez', 'khloe kardashian', 'ashley tisdale',\n",
       "       'shakira', 'soulja boy', 'nick cannon', 'oprah', 'john boehner',\n",
       "       'al-anon mtg', 'ashton kutcher', 'mc hammer',\n",
       "       'arnold schwarzenegger', 'paris hilton', 'snoop dogg',\n",
       "       'tim bresnan', 'alex rodriguez', 'mariah carey', 'britney sears',\n",
       "       'gaga', 'stephen colbert', 'snoopdogg', 'nick jonas',\n",
       "       'chelsea handler', 'souljaboy', \"conan o'brien\", 'john mayer',\n",
       "       'oprah winfrey', 'johnmayer', 'bieber', 'canon powershot',\n",
       "       'weird al yankovic', 'mindflex game', 'hillary', 'weird al',\n",
       "       \"shaquille o'neal\", 'elizabeth taylor', 'o', 'miley',\n",
       "       'donald trump', 'stephen fry', 'kevin spacey', 'britneyspears',\n",
       "       'justin drew bieber', 'barack', 'biden', 'miley ray cyrus',\n",
       "       'larry king', 'albert pujols', 'rev run', 'snoop dog',\n",
       "       'kourtney kardashian', 'lance armstrong', 'j lo', 'tony hawk',\n",
       "       'a-rod', 'amy schumer', 'ant-man', 'bad blood', 'bee gees',\n",
       "       'big brother', 'boko haram', 'briana', 'brock lesnar',\n",
       "       'caitlyn jenner', 'calibraska', 'carly fiorina', 'cate blanchett',\n",
       "       'charlie hebdo', 'chris evans', 'christians', 'chuck norris',\n",
       "       'curtis', 'dana white', 'dark souls', 'david bowie', 'david price',\n",
       "       'david wright', 'dean ambrose', 'dunkin', 'dustin johnson',\n",
       "       'ed sheeran', 'eid', 'floyd mayweather', 'foo fighters',\n",
       "       'frank gifford', 'frank ocean', 'gay', 'george harrison',\n",
       "       'george osborne', 'gucci', 'hulk hogan', 'ice cube', 'ira', 'iran',\n",
       "       'iron maiden', 'islam', 'israel', 'janet jackson', 'jason aldean',\n",
       "       'john cena', 'john kasich', 'josh hamilton', 'kane', 'kanye west',\n",
       "       'kendrick', 'kendrick lamar', 'kpop', 'kris bryant', 'milan',\n",
       "       'miss usa', 'moto g', 'murray', 'muslims', 'naruto',\n",
       "       'national hot dog day', 'national ice cream day', 'niall', 'nicki',\n",
       "       'nirvana', 'paper towns', 'paul dunne', 'paul mccartney',\n",
       "       'prince george', 'ps4', 'rahul gandhi', 'randy orton',\n",
       "       'real madrid', 'red sox', 'rolling stone', 'rousey', 'ryan braun',\n",
       "       'sam smith', 'saudi arabia', 'scott walker', 'seth rollins',\n",
       "       'sharknado', 'shawn', 'star wars day', 'super eagles', 'the vamps',\n",
       "       'thor', 'tom brady', 'tony blair', 'twilight', 'u2', 'watchman',\n",
       "       'white sox', 'yakub', '@microsoft', 'ac/dc', 'amazon',\n",
       "       'amazon prime', 'amazon prime day', 'angela merkel', 'apple',\n",
       "       'apple watch', 'arsenal', 'barca', 'batman', 'bbc', 'bentley',\n",
       "       'bernie sanders', 'beyonce', 'bob marley', 'bobby jindal',\n",
       "       'chelsea', 'chris brown', 'conor mcgregor', 'david beckham',\n",
       "       'david cameron', 'digi', 'disneyland', 'erdogan', 'eric church',\n",
       "       'federer', 'fleetwood mac', 'galaxy note', 'game of thrones',\n",
       "       'google+', 'grateful dead', 'hannibal', 'harper', 'ibm', 'ihop',\n",
       "       'ios', 'jay-z', 'jeb bush', 'jurassic park', 'jurassic world',\n",
       "       'justin', 'juventus', 'kerry', 'kurt cobain', 'labor day', 'lexus',\n",
       "       'magic mike xxl', 'messi', 'metlife', '#ArianaGrande',\n",
       "       '#BlackLivesMatter', '#FCBlive', '#GilmoreGirlsTop4', '#Hamas',\n",
       "       '#Hatchimals', '#Hezbollah', '#ISIS', '#Jerusalem', '#Libya',\n",
       "       '#MannequinChallenge', '#MosulOffensive', '#NBAwards',\n",
       "       '#OneDirection', '#Palestine', '#ScreamQueens', '#TheWalkingDead',\n",
       "       '#ThisIsUs', '#UniteBlue', '#UnitedNations', '#Yemen',\n",
       "       '#beautyandthebeast', '#draintheswamp', '#fantasticbeasts',\n",
       "       '#nationalfastfoodday', '#stillwithher', '#thankyouobama',\n",
       "       '#trumptransitionteam', '#uber', '3d printing', '@elizabethforma',\n",
       "       '@megynkelly', '@utahjazz', 'Ben Carson', 'Dakota Access Pipeline',\n",
       "       'David Blaine', 'Google Earth VR', 'Mike Pence', 'Putin',\n",
       "       'Ricky Martin', 'Steve Bannon', 'Tony Romo', 'Valentines',\n",
       "       'abortion', 'aleppo', 'alt-rightists', 'animal testing',\n",
       "       'anti-trump riots', 'ashley graham', 'bad hombres', 'bob dylan',\n",
       "       'brexit', 'clinton foundation', 'comey', 'conservatives',\n",
       "       'cristiano ronaldo', 'cuba embargo', 'cubs', 'cy young',\n",
       "       'death penalty', 'deep learning', 'dems', 'deplorables',\n",
       "       'drone strikes', 'electoral college', 'euthanasia', 'fidel castro',\n",
       "       'fossil fuels', 'fracking', 'galaxy note 7', 'gay marriage',\n",
       "       'george soros', 'gold standard', 'grayson allen', 'gun control',\n",
       "       'homeopathy', 'immigration', 'kim fatty the third', 'kim jong-un',\n",
       "       'kremlintrolls', 'leftists', 'leonard cohen', 'liberals', 'maduro',\n",
       "       'marine le pen', 'medicaid', 'medical marijuana', 'medicare',\n",
       "       'melania speech', 'melania trump', 'michael moore',\n",
       "       'microsoft joins the linux foundation', 'minimum wage',\n",
       "       'muhammad ali', 'nazi', 'obama admin', 'obamacare', 'pelosi',\n",
       "       'persona 5', 'pope francis', 'popular vote', 'poroshenko',\n",
       "       'rightists', 'robots', 'saakashvili', 'self-driving cars',\n",
       "       'social security', 'steve bannon', 'supremacists', 'tesla model s',\n",
       "       'thanksgiving', 'tim duncan', 'tipp', 'tpp', 'trump cabinet',\n",
       "       'trump protest', 'trump transition', 'vaccines', 'vegetarianism',\n",
       "       'verlander', 'voter registration', 'voter suppression',\n",
       "       'wall on the mexican border', 'westworld', 'zac efron', 'kindle2',\n",
       "       'aig', 'jquery', 'twitter', 'nike', 'lebron', 'iphone app', 'visa',\n",
       "       'fredwilson', '\"booz allen\"', '40d', 'itchy', 'stanford', 'lyx',\n",
       "       'Danny Gokey', 'sleep', 'san francisco', 'star trek',\n",
       "       'Malcolm Gladwell', 'espn', '\"twitter api\"', 'yahoo',\n",
       "       'scrapbooking', 'wolfram alpha', 'weka', '50d', 'lambda calculus',\n",
       "       'east palo alto', 'north korea', 'bailout', 'insects', 'mcdonalds',\n",
       "       'exam', 'cheney', 'republican', 'twitter api', 'jquery book',\n",
       "       'goodby silverstein', 'wieden', 'g2', 'googleio',\n",
       "       'viral marketing', '\"night at the museum\"', 'gm', 'time warner',\n",
       "       'china', 'surgery', 'dentist', 'baseball', 'sony', 'safeway',\n",
       "       'eating', 'warren buffet', 'notre dame school', '\"naive bayes\"',\n",
       "       'car warranty call', 'at&t', 'wave sandbox', 'bing', 'summize',\n",
       "       'world cup', 'world cup 2010', 'fred wilson', 'indian election',\n",
       "       'india election', 'comcast', 'shoreline amphitheatre', 'mashable',\n",
       "       'hitler', 'yankees', 'driving', 'visa card', 'Bobby Flay', 'latex',\n",
       "       'aapl'], dtype=object)"
      ]
     },
     "execution_count": 5,
     "metadata": {},
     "output_type": "execute_result"
    }
   ],
   "source": [
    "twit.target.unique()"
   ]
  },
  {
   "cell_type": "code",
   "execution_count": 6,
   "id": "dfe603bb",
   "metadata": {},
   "outputs": [],
   "source": [
    "rest = pd.read_csv('data/rest_lap.tsv', sep='\\t')"
   ]
  },
  {
   "cell_type": "code",
   "execution_count": 12,
   "id": "fdc820f6",
   "metadata": {},
   "outputs": [],
   "source": [
    "no_tweet = pd.concat([hood, rest])\n",
    "no_tweet.to_csv('data/data_no_tweet.tsv', sep='\\t')"
   ]
  },
  {
   "cell_type": "code",
   "execution_count": 11,
   "id": "b1192437",
   "metadata": {},
   "outputs": [],
   "source": [
    "pd.concat([no_tweet, twit]).to_csv('data/data_full.tsv', sep='\\t')"
   ]
  },
  {
   "cell_type": "code",
   "execution_count": null,
   "id": "c26fb79f",
   "metadata": {},
   "outputs": [],
   "source": []
  }
 ],
 "metadata": {
  "kernelspec": {
   "display_name": "Python 3 (ipykernel)",
   "language": "python",
   "name": "python3"
  },
  "language_info": {
   "codemirror_mode": {
    "name": "ipython",
    "version": 3
   },
   "file_extension": ".py",
   "mimetype": "text/x-python",
   "name": "python",
   "nbconvert_exporter": "python",
   "pygments_lexer": "ipython3",
   "version": "3.8.10"
  }
 },
 "nbformat": 4,
 "nbformat_minor": 5
}
